{
 "cells": [
  {
   "cell_type": "code",
   "execution_count": 1,
   "metadata": {},
   "outputs": [],
   "source": [
    "import matplotlib.pyplot as plt\n",
    "#import tensorflow as tf\n",
    "import numpy as np\n",
    "import pandas as pd\n",
    "import os\n",
    "from sklearn.preprocessing import MinMaxScaler"
   ]
  },
  {
   "cell_type": "code",
   "execution_count": 2,
   "metadata": {},
   "outputs": [],
   "source": [
    "import weather"
   ]
  },
  {
   "cell_type": "code",
   "execution_count": 3,
   "metadata": {},
   "outputs": [
    {
     "name": "stdout",
     "output_type": "stream",
     "text": [
      "Data has apparently already been downloaded and unpacked.\n"
     ]
    }
   ],
   "source": [
    "weather.maybe_download_and_extract()"
   ]
  },
  {
   "cell_type": "code",
   "execution_count": 4,
   "metadata": {},
   "outputs": [
    {
     "data": {
      "text/plain": [
       "['Aalborg', 'Aarhus', 'Esbjerg', 'Odense', 'Roskilde']"
      ]
     },
     "execution_count": 4,
     "metadata": {},
     "output_type": "execute_result"
    }
   ],
   "source": [
    "cities = weather.cities\n",
    "cities"
   ]
  },
  {
   "cell_type": "code",
   "execution_count": 5,
   "metadata": {},
   "outputs": [
    {
     "name": "stdout",
     "output_type": "stream",
     "text": [
      "Wall time: 126 ms\n"
     ]
    }
   ],
   "source": [
    "%%time\n",
    "df = weather.load_resampled_data()"
   ]
  },
  {
   "cell_type": "code",
   "execution_count": 6,
   "metadata": {},
   "outputs": [
    {
     "data": {
      "text/html": [
       "<div>\n",
       "<style scoped>\n",
       "    .dataframe tbody tr th:only-of-type {\n",
       "        vertical-align: middle;\n",
       "    }\n",
       "\n",
       "    .dataframe tbody tr th {\n",
       "        vertical-align: top;\n",
       "    }\n",
       "\n",
       "    .dataframe thead tr th {\n",
       "        text-align: left;\n",
       "    }\n",
       "\n",
       "    .dataframe thead tr:last-of-type th {\n",
       "        text-align: right;\n",
       "    }\n",
       "</style>\n",
       "<table border=\"1\" class=\"dataframe\">\n",
       "  <thead>\n",
       "    <tr>\n",
       "      <th></th>\n",
       "      <th colspan=\"4\" halign=\"left\">Aalborg</th>\n",
       "      <th colspan=\"4\" halign=\"left\">Aarhus</th>\n",
       "      <th colspan=\"4\" halign=\"left\">Esbjerg</th>\n",
       "      <th colspan=\"4\" halign=\"left\">Odense</th>\n",
       "      <th colspan=\"4\" halign=\"left\">Roskilde</th>\n",
       "    </tr>\n",
       "    <tr>\n",
       "      <th></th>\n",
       "      <th>Temp</th>\n",
       "      <th>Pressure</th>\n",
       "      <th>WindSpeed</th>\n",
       "      <th>WindDir</th>\n",
       "      <th>Temp</th>\n",
       "      <th>Pressure</th>\n",
       "      <th>WindSpeed</th>\n",
       "      <th>WindDir</th>\n",
       "      <th>Temp</th>\n",
       "      <th>Pressure</th>\n",
       "      <th>WindSpeed</th>\n",
       "      <th>WindDir</th>\n",
       "      <th>Temp</th>\n",
       "      <th>Pressure</th>\n",
       "      <th>WindSpeed</th>\n",
       "      <th>WindDir</th>\n",
       "      <th>Temp</th>\n",
       "      <th>Pressure</th>\n",
       "      <th>WindSpeed</th>\n",
       "      <th>WindDir</th>\n",
       "    </tr>\n",
       "    <tr>\n",
       "      <th>DateTime</th>\n",
       "      <th></th>\n",
       "      <th></th>\n",
       "      <th></th>\n",
       "      <th></th>\n",
       "      <th></th>\n",
       "      <th></th>\n",
       "      <th></th>\n",
       "      <th></th>\n",
       "      <th></th>\n",
       "      <th></th>\n",
       "      <th></th>\n",
       "      <th></th>\n",
       "      <th></th>\n",
       "      <th></th>\n",
       "      <th></th>\n",
       "      <th></th>\n",
       "      <th></th>\n",
       "      <th></th>\n",
       "      <th></th>\n",
       "      <th></th>\n",
       "    </tr>\n",
       "  </thead>\n",
       "  <tbody>\n",
       "    <tr>\n",
       "      <th>1980-03-01 11:00:00</th>\n",
       "      <td>5.000000</td>\n",
       "      <td>1007.766667</td>\n",
       "      <td>10.2</td>\n",
       "      <td>280.000000</td>\n",
       "      <td>5.0</td>\n",
       "      <td>1008.300000</td>\n",
       "      <td>15.4</td>\n",
       "      <td>290.0</td>\n",
       "      <td>6.083333</td>\n",
       "      <td>NaN</td>\n",
       "      <td>12.383333</td>\n",
       "      <td>310.000000</td>\n",
       "      <td>6.142857</td>\n",
       "      <td>1011.066667</td>\n",
       "      <td>12.585714</td>\n",
       "      <td>290.0</td>\n",
       "      <td>5.000000</td>\n",
       "      <td>NaN</td>\n",
       "      <td>11.466667</td>\n",
       "      <td>280.000000</td>\n",
       "    </tr>\n",
       "    <tr>\n",
       "      <th>1980-03-01 12:00:00</th>\n",
       "      <td>5.000000</td>\n",
       "      <td>1008.000000</td>\n",
       "      <td>10.3</td>\n",
       "      <td>290.000000</td>\n",
       "      <td>5.0</td>\n",
       "      <td>1008.600000</td>\n",
       "      <td>13.4</td>\n",
       "      <td>280.0</td>\n",
       "      <td>6.583333</td>\n",
       "      <td>NaN</td>\n",
       "      <td>12.883333</td>\n",
       "      <td>310.000000</td>\n",
       "      <td>7.000000</td>\n",
       "      <td>1011.200000</td>\n",
       "      <td>11.300000</td>\n",
       "      <td>290.0</td>\n",
       "      <td>5.000000</td>\n",
       "      <td>NaN</td>\n",
       "      <td>12.466667</td>\n",
       "      <td>280.000000</td>\n",
       "    </tr>\n",
       "    <tr>\n",
       "      <th>1980-03-01 13:00:00</th>\n",
       "      <td>5.000000</td>\n",
       "      <td>1008.066667</td>\n",
       "      <td>9.7</td>\n",
       "      <td>290.000000</td>\n",
       "      <td>5.0</td>\n",
       "      <td>1008.433333</td>\n",
       "      <td>15.4</td>\n",
       "      <td>280.0</td>\n",
       "      <td>6.888889</td>\n",
       "      <td>NaN</td>\n",
       "      <td>13.244444</td>\n",
       "      <td>309.444444</td>\n",
       "      <td>7.000000</td>\n",
       "      <td>1011.300000</td>\n",
       "      <td>12.118182</td>\n",
       "      <td>290.0</td>\n",
       "      <td>5.166667</td>\n",
       "      <td>NaN</td>\n",
       "      <td>13.133333</td>\n",
       "      <td>278.333333</td>\n",
       "    </tr>\n",
       "    <tr>\n",
       "      <th>1980-03-01 14:00:00</th>\n",
       "      <td>4.333333</td>\n",
       "      <td>1008.133333</td>\n",
       "      <td>11.1</td>\n",
       "      <td>283.333333</td>\n",
       "      <td>5.0</td>\n",
       "      <td>1008.266667</td>\n",
       "      <td>14.9</td>\n",
       "      <td>300.0</td>\n",
       "      <td>6.222222</td>\n",
       "      <td>NaN</td>\n",
       "      <td>12.911111</td>\n",
       "      <td>306.111111</td>\n",
       "      <td>6.857143</td>\n",
       "      <td>1011.400000</td>\n",
       "      <td>12.742857</td>\n",
       "      <td>290.0</td>\n",
       "      <td>5.833333</td>\n",
       "      <td>NaN</td>\n",
       "      <td>12.300000</td>\n",
       "      <td>270.000000</td>\n",
       "    </tr>\n",
       "    <tr>\n",
       "      <th>1980-03-01 15:00:00</th>\n",
       "      <td>4.000000</td>\n",
       "      <td>1008.200000</td>\n",
       "      <td>11.3</td>\n",
       "      <td>280.000000</td>\n",
       "      <td>5.0</td>\n",
       "      <td>1008.100000</td>\n",
       "      <td>17.0</td>\n",
       "      <td>290.0</td>\n",
       "      <td>5.555556</td>\n",
       "      <td>NaN</td>\n",
       "      <td>12.577778</td>\n",
       "      <td>302.777778</td>\n",
       "      <td>6.000000</td>\n",
       "      <td>1011.500000</td>\n",
       "      <td>12.400000</td>\n",
       "      <td>290.0</td>\n",
       "      <td>4.833333</td>\n",
       "      <td>NaN</td>\n",
       "      <td>12.300000</td>\n",
       "      <td>270.000000</td>\n",
       "    </tr>\n",
       "  </tbody>\n",
       "</table>\n",
       "</div>"
      ],
      "text/plain": [
       "                      Aalborg                                    Aarhus  \\\n",
       "                         Temp     Pressure WindSpeed     WindDir   Temp   \n",
       "DateTime                                                                  \n",
       "1980-03-01 11:00:00  5.000000  1007.766667      10.2  280.000000    5.0   \n",
       "1980-03-01 12:00:00  5.000000  1008.000000      10.3  290.000000    5.0   \n",
       "1980-03-01 13:00:00  5.000000  1008.066667       9.7  290.000000    5.0   \n",
       "1980-03-01 14:00:00  4.333333  1008.133333      11.1  283.333333    5.0   \n",
       "1980-03-01 15:00:00  4.000000  1008.200000      11.3  280.000000    5.0   \n",
       "\n",
       "                                                     Esbjerg           \\\n",
       "                        Pressure WindSpeed WindDir      Temp Pressure   \n",
       "DateTime                                                                \n",
       "1980-03-01 11:00:00  1008.300000      15.4   290.0  6.083333      NaN   \n",
       "1980-03-01 12:00:00  1008.600000      13.4   280.0  6.583333      NaN   \n",
       "1980-03-01 13:00:00  1008.433333      15.4   280.0  6.888889      NaN   \n",
       "1980-03-01 14:00:00  1008.266667      14.9   300.0  6.222222      NaN   \n",
       "1980-03-01 15:00:00  1008.100000      17.0   290.0  5.555556      NaN   \n",
       "\n",
       "                                              Odense                          \\\n",
       "                     WindSpeed     WindDir      Temp     Pressure  WindSpeed   \n",
       "DateTime                                                                       \n",
       "1980-03-01 11:00:00  12.383333  310.000000  6.142857  1011.066667  12.585714   \n",
       "1980-03-01 12:00:00  12.883333  310.000000  7.000000  1011.200000  11.300000   \n",
       "1980-03-01 13:00:00  13.244444  309.444444  7.000000  1011.300000  12.118182   \n",
       "1980-03-01 14:00:00  12.911111  306.111111  6.857143  1011.400000  12.742857   \n",
       "1980-03-01 15:00:00  12.577778  302.777778  6.000000  1011.500000  12.400000   \n",
       "\n",
       "                             Roskilde                                  \n",
       "                    WindDir      Temp Pressure  WindSpeed     WindDir  \n",
       "DateTime                                                               \n",
       "1980-03-01 11:00:00   290.0  5.000000      NaN  11.466667  280.000000  \n",
       "1980-03-01 12:00:00   290.0  5.000000      NaN  12.466667  280.000000  \n",
       "1980-03-01 13:00:00   290.0  5.166667      NaN  13.133333  278.333333  \n",
       "1980-03-01 14:00:00   290.0  5.833333      NaN  12.300000  270.000000  \n",
       "1980-03-01 15:00:00   290.0  4.833333      NaN  12.300000  270.000000  "
      ]
     },
     "execution_count": 6,
     "metadata": {},
     "output_type": "execute_result"
    }
   ],
   "source": [
    "df.head()"
   ]
  },
  {
   "cell_type": "markdown",
   "metadata": {},
   "source": [
    "### Missing Data"
   ]
  },
  {
   "cell_type": "code",
   "execution_count": 7,
   "metadata": {},
   "outputs": [
    {
     "data": {
      "text/plain": [
       "<matplotlib.axes._subplots.AxesSubplot at 0x265b86b30f0>"
      ]
     },
     "execution_count": 7,
     "metadata": {},
     "output_type": "execute_result"
    },
    {
     "data": {
      "image/png": "[encoded data removed]",
      "text/plain": [
       "<Figure size 432x288 with 1 Axes>"
      ]
     },
     "metadata": {
      "needs_background": "light"
     },
     "output_type": "display_data"
    }
   ],
   "source": [
    "df['Esbjerg']['Pressure'].plot()"
   ]
  },
  {
   "cell_type": "code",
   "execution_count": 8,
   "metadata": {},
   "outputs": [
    {
     "data": {
      "text/plain": [
       "(333109, 20)"
      ]
     },
     "execution_count": 8,
     "metadata": {},
     "output_type": "execute_result"
    }
   ],
   "source": [
    "df.values.shape"
   ]
  },
  {
   "cell_type": "markdown",
   "metadata": {},
   "source": [
    "#### Removing the two signals that have missing data"
   ]
  },
  {
   "cell_type": "code",
   "execution_count": 9,
   "metadata": {},
   "outputs": [],
   "source": [
    "df.drop(('Esbjerg', 'Pressure'), axis=1, inplace=True)\n",
    "df.drop(('Roskilde', 'Pressure'), axis=1, inplace=True)"
   ]
  },
  {
   "cell_type": "code",
   "execution_count": 10,
   "metadata": {},
   "outputs": [
    {
     "data": {
      "text/plain": [
       "(333109, 18)"
      ]
     },
     "execution_count": 10,
     "metadata": {},
     "output_type": "execute_result"
    }
   ],
   "source": [
    "df.values.shape"
   ]
  },
  {
   "cell_type": "code",
   "execution_count": 11,
   "metadata": {},
   "outputs": [
    {
     "data": {
      "text/html": [
       "<div>\n",
       "<style scoped>\n",
       "    .dataframe tbody tr th:only-of-type {\n",
       "        vertical-align: middle;\n",
       "    }\n",
       "\n",
       "    .dataframe tbody tr th {\n",
       "        vertical-align: top;\n",
       "    }\n",
       "\n",
       "    .dataframe thead tr th {\n",
       "        text-align: left;\n",
       "    }\n",
       "\n",
       "    .dataframe thead tr:last-of-type th {\n",
       "        text-align: right;\n",
       "    }\n",
       "</style>\n",
       "<table border=\"1\" class=\"dataframe\">\n",
       "  <thead>\n",
       "    <tr>\n",
       "      <th></th>\n",
       "      <th colspan=\"4\" halign=\"left\">Aalborg</th>\n",
       "      <th colspan=\"4\" halign=\"left\">Aarhus</th>\n",
       "      <th colspan=\"3\" halign=\"left\">Esbjerg</th>\n",
       "      <th colspan=\"4\" halign=\"left\">Odense</th>\n",
       "      <th colspan=\"3\" halign=\"left\">Roskilde</th>\n",
       "    </tr>\n",
       "    <tr>\n",
       "      <th></th>\n",
       "      <th>Temp</th>\n",
       "      <th>Pressure</th>\n",
       "      <th>WindSpeed</th>\n",
       "      <th>WindDir</th>\n",
       "      <th>Temp</th>\n",
       "      <th>Pressure</th>\n",
       "      <th>WindSpeed</th>\n",
       "      <th>WindDir</th>\n",
       "      <th>Temp</th>\n",
       "      <th>WindSpeed</th>\n",
       "      <th>WindDir</th>\n",
       "      <th>Temp</th>\n",
       "      <th>Pressure</th>\n",
       "      <th>WindSpeed</th>\n",
       "      <th>WindDir</th>\n",
       "      <th>Temp</th>\n",
       "      <th>WindSpeed</th>\n",
       "      <th>WindDir</th>\n",
       "    </tr>\n",
       "    <tr>\n",
       "      <th>DateTime</th>\n",
       "      <th></th>\n",
       "      <th></th>\n",
       "      <th></th>\n",
       "      <th></th>\n",
       "      <th></th>\n",
       "      <th></th>\n",
       "      <th></th>\n",
       "      <th></th>\n",
       "      <th></th>\n",
       "      <th></th>\n",
       "      <th></th>\n",
       "      <th></th>\n",
       "      <th></th>\n",
       "      <th></th>\n",
       "      <th></th>\n",
       "      <th></th>\n",
       "      <th></th>\n",
       "      <th></th>\n",
       "    </tr>\n",
       "  </thead>\n",
       "  <tbody>\n",
       "    <tr>\n",
       "      <th>1980-03-01 11:00:00</th>\n",
       "      <td>5.000000</td>\n",
       "      <td>1007.766667</td>\n",
       "      <td>10.2</td>\n",
       "      <td>280.000000</td>\n",
       "      <td>5.0</td>\n",
       "      <td>1008.300000</td>\n",
       "      <td>15.4</td>\n",
       "      <td>290.0</td>\n",
       "      <td>6.083333</td>\n",
       "      <td>12.383333</td>\n",
       "      <td>310.000000</td>\n",
       "      <td>6.142857</td>\n",
       "      <td>1011.066667</td>\n",
       "      <td>12.585714</td>\n",
       "      <td>290.0</td>\n",
       "      <td>5.000000</td>\n",
       "      <td>11.466667</td>\n",
       "      <td>280.000000</td>\n",
       "    </tr>\n",
       "    <tr>\n",
       "      <th>1980-03-01 12:00:00</th>\n",
       "      <td>5.000000</td>\n",
       "      <td>1008.000000</td>\n",
       "      <td>10.3</td>\n",
       "      <td>290.000000</td>\n",
       "      <td>5.0</td>\n",
       "      <td>1008.600000</td>\n",
       "      <td>13.4</td>\n",
       "      <td>280.0</td>\n",
       "      <td>6.583333</td>\n",
       "      <td>12.883333</td>\n",
       "      <td>310.000000</td>\n",
       "      <td>7.000000</td>\n",
       "      <td>1011.200000</td>\n",
       "      <td>11.300000</td>\n",
       "      <td>290.0</td>\n",
       "      <td>5.000000</td>\n",
       "      <td>12.466667</td>\n",
       "      <td>280.000000</td>\n",
       "    </tr>\n",
       "    <tr>\n",
       "      <th>1980-03-01 13:00:00</th>\n",
       "      <td>5.000000</td>\n",
       "      <td>1008.066667</td>\n",
       "      <td>9.7</td>\n",
       "      <td>290.000000</td>\n",
       "      <td>5.0</td>\n",
       "      <td>1008.433333</td>\n",
       "      <td>15.4</td>\n",
       "      <td>280.0</td>\n",
       "      <td>6.888889</td>\n",
       "      <td>13.244444</td>\n",
       "      <td>309.444444</td>\n",
       "      <td>7.000000</td>\n",
       "      <td>1011.300000</td>\n",
       "      <td>12.118182</td>\n",
       "      <td>290.0</td>\n",
       "      <td>5.166667</td>\n",
       "      <td>13.133333</td>\n",
       "      <td>278.333333</td>\n",
       "    </tr>\n",
       "    <tr>\n",
       "      <th>1980-03-01 14:00:00</th>\n",
       "      <td>4.333333</td>\n",
       "      <td>1008.133333</td>\n",
       "      <td>11.1</td>\n",
       "      <td>283.333333</td>\n",
       "      <td>5.0</td>\n",
       "      <td>1008.266667</td>\n",
       "      <td>14.9</td>\n",
       "      <td>300.0</td>\n",
       "      <td>6.222222</td>\n",
       "      <td>12.911111</td>\n",
       "      <td>306.111111</td>\n",
       "      <td>6.857143</td>\n",
       "      <td>1011.400000</td>\n",
       "      <td>12.742857</td>\n",
       "      <td>290.0</td>\n",
       "      <td>5.833333</td>\n",
       "      <td>12.300000</td>\n",
       "      <td>270.000000</td>\n",
       "    </tr>\n",
       "    <tr>\n",
       "      <th>1980-03-01 15:00:00</th>\n",
       "      <td>4.000000</td>\n",
       "      <td>1008.200000</td>\n",
       "      <td>11.3</td>\n",
       "      <td>280.000000</td>\n",
       "      <td>5.0</td>\n",
       "      <td>1008.100000</td>\n",
       "      <td>17.0</td>\n",
       "      <td>290.0</td>\n",
       "      <td>5.555556</td>\n",
       "      <td>12.577778</td>\n",
       "      <td>302.777778</td>\n",
       "      <td>6.000000</td>\n",
       "      <td>1011.500000</td>\n",
       "      <td>12.400000</td>\n",
       "      <td>290.0</td>\n",
       "      <td>4.833333</td>\n",
       "      <td>12.300000</td>\n",
       "      <td>270.000000</td>\n",
       "    </tr>\n",
       "  </tbody>\n",
       "</table>\n",
       "</div>"
      ],
      "text/plain": [
       "                      Aalborg                                    Aarhus  \\\n",
       "                         Temp     Pressure WindSpeed     WindDir   Temp   \n",
       "DateTime                                                                  \n",
       "1980-03-01 11:00:00  5.000000  1007.766667      10.2  280.000000    5.0   \n",
       "1980-03-01 12:00:00  5.000000  1008.000000      10.3  290.000000    5.0   \n",
       "1980-03-01 13:00:00  5.000000  1008.066667       9.7  290.000000    5.0   \n",
       "1980-03-01 14:00:00  4.333333  1008.133333      11.1  283.333333    5.0   \n",
       "1980-03-01 15:00:00  4.000000  1008.200000      11.3  280.000000    5.0   \n",
       "\n",
       "                                                     Esbjerg             \\\n",
       "                        Pressure WindSpeed WindDir      Temp  WindSpeed   \n",
       "DateTime                                                                  \n",
       "1980-03-01 11:00:00  1008.300000      15.4   290.0  6.083333  12.383333   \n",
       "1980-03-01 12:00:00  1008.600000      13.4   280.0  6.583333  12.883333   \n",
       "1980-03-01 13:00:00  1008.433333      15.4   280.0  6.888889  13.244444   \n",
       "1980-03-01 14:00:00  1008.266667      14.9   300.0  6.222222  12.911111   \n",
       "1980-03-01 15:00:00  1008.100000      17.0   290.0  5.555556  12.577778   \n",
       "\n",
       "                                   Odense                                  \\\n",
       "                        WindDir      Temp     Pressure  WindSpeed WindDir   \n",
       "DateTime                                                                    \n",
       "1980-03-01 11:00:00  310.000000  6.142857  1011.066667  12.585714   290.0   \n",
       "1980-03-01 12:00:00  310.000000  7.000000  1011.200000  11.300000   290.0   \n",
       "1980-03-01 13:00:00  309.444444  7.000000  1011.300000  12.118182   290.0   \n",
       "1980-03-01 14:00:00  306.111111  6.857143  1011.400000  12.742857   290.0   \n",
       "1980-03-01 15:00:00  302.777778  6.000000  1011.500000  12.400000   290.0   \n",
       "\n",
       "                     Roskilde                         \n",
       "                         Temp  WindSpeed     WindDir  \n",
       "DateTime                                              \n",
       "1980-03-01 11:00:00  5.000000  11.466667  280.000000  \n",
       "1980-03-01 12:00:00  5.000000  12.466667  280.000000  \n",
       "1980-03-01 13:00:00  5.166667  13.133333  278.333333  \n",
       "1980-03-01 14:00:00  5.833333  12.300000  270.000000  \n",
       "1980-03-01 15:00:00  4.833333  12.300000  270.000000  "
      ]
     },
     "execution_count": 11,
     "metadata": {},
     "output_type": "execute_result"
    }
   ],
   "source": [
    "df.head(5)"
   ]
  },
  {
   "cell_type": "markdown",
   "metadata": {},
   "source": [
    "### Data Errors"
   ]
  },
  {
   "cell_type": "code",
   "execution_count": 12,
   "metadata": {},
   "outputs": [],
   "source": [
    "import seaborn as sns"
   ]
  },
  {
   "cell_type": "markdown",
   "metadata": {},
   "source": [
    "There are some errors in this data. As shown in the plot below, the temperature in the city of Odense suddenly jumped to almost 50 degrees C. But the highest temperature ever measured in Denmark was only 36.4 degrees Celcius and the lowest was -31.2 C. So this is clearly a data error"
   ]
  },
  {
   "cell_type": "code",
   "execution_count": 13,
   "metadata": {},
   "outputs": [
    {
     "data": {
      "text/plain": [
       "<matplotlib.axes._subplots.AxesSubplot at 0x265b9483be0>"
      ]
     },
     "execution_count": 13,
     "metadata": {},
     "output_type": "execute_result"
    },
    {
     "data": {
      "image/png": "[encoded data removed]",
      "text/plain": [
       "<Figure size 432x288 with 1 Axes>"
      ]
     },
     "metadata": {},
     "output_type": "display_data"
    }
   ],
   "source": [
    "sns.set()\n",
    "#sns.despine()\n",
    "sns.distplot(df['Odense']['Temp']['2006-05':'2006-07'])"
   ]
  },
  {
   "cell_type": "code",
   "execution_count": 14,
   "metadata": {},
   "outputs": [],
   "source": [
    "import plotly.graph_objects as go"
   ]
  },
  {
   "cell_type": "code",
   "execution_count": 15,
   "metadata": {},
   "outputs": [
    {
     "data": {
      "text/plain": [
       "DateTime\n",
       "2006-05-01 00:00:00     6.4\n",
       "2006-05-01 01:00:00     5.2\n",
       "2006-05-01 02:00:00     3.7\n",
       "2006-05-01 03:00:00     3.0\n",
       "2006-05-01 04:00:00     2.8\n",
       "                       ... \n",
       "2006-07-31 19:00:00    20.9\n",
       "2006-07-31 20:00:00    19.6\n",
       "2006-07-31 21:00:00    18.5\n",
       "2006-07-31 22:00:00    17.8\n",
       "2006-07-31 23:00:00    17.1\n",
       "Freq: H, Name: Temp, Length: 2208, dtype: float64"
      ]
     },
     "execution_count": 15,
     "metadata": {},
     "output_type": "execute_result"
    }
   ],
   "source": [
    "df['Odense']['Temp']['2006-05':'2006-07']"
   ]
  },
  {
   "cell_type": "code",
   "execution_count": 16,
   "metadata": {},
   "outputs": [
    {
     "data": {
      "text/plain": [
       "<matplotlib.axes._subplots.AxesSubplot at 0x265c244f358>"
      ]
     },
     "execution_count": 16,
     "metadata": {},
     "output_type": "execute_result"
    },
    {
     "data": {
      "image/png": "[encoded data removed]",
      "text/plain": [
       "<Figure size 432x288 with 1 Axes>"
      ]
     },
     "metadata": {},
     "output_type": "display_data"
    }
   ],
   "source": [
    "sns.boxplot(data=df['Odense']['Temp']['2006-05':'2006-07'], palette=\"deep\")"
   ]
  },
  {
   "cell_type": "code",
   "execution_count": 17,
   "metadata": {},
   "outputs": [
    {
     "data": {
      "text/plain": [
       "<matplotlib.axes._subplots.AxesSubplot at 0x265b9553668>"
      ]
     },
     "execution_count": 17,
     "metadata": {},
     "output_type": "execute_result"
    },
    {
     "data": {
      "image/png": "[encoded data removed]",
      "text/plain": [
       "<Figure size 432x288 with 1 Axes>"
      ]
     },
     "metadata": {},
     "output_type": "display_data"
    }
   ],
   "source": [
    "df['Odense']['Temp']['2006-05':'2006-07'].plot()"
   ]
  },
  {
   "cell_type": "markdown",
   "metadata": {},
   "source": [
    "This can also be confirmed to be an error by considering the temperatures in some of the other cities in Denmark for that period, which was only around 10 degrees. Because the country is so small, it is not possible for one city in Denmark to have 50 degrees while another city only has 10 degrees."
   ]
  },
  {
   "cell_type": "code",
   "execution_count": 18,
   "metadata": {},
   "outputs": [
    {
     "data": {
      "text/plain": [
       "<matplotlib.axes._subplots.AxesSubplot at 0x265c24b8748>"
      ]
     },
     "execution_count": 18,
     "metadata": {},
     "output_type": "execute_result"
    },
    {
     "data": {
      "image/png": "[encoded data removed]",
      "text/plain": [
       "<Figure size 432x288 with 1 Axes>"
      ]
     },
     "metadata": {},
     "output_type": "display_data"
    }
   ],
   "source": [
    "sns.distplot(df['Aarhus']['Temp']['2006-05':'2006-07'])"
   ]
  },
  {
   "cell_type": "code",
   "execution_count": 19,
   "metadata": {},
   "outputs": [
    {
     "data": {
      "text/plain": [
       "<matplotlib.axes._subplots.AxesSubplot at 0x265c25fda58>"
      ]
     },
     "execution_count": 19,
     "metadata": {},
     "output_type": "execute_result"
    },
    {
     "data": {
      "image/png": "[encoded data removed]",
      "text/plain": [
       "<Figure size 432x288 with 1 Axes>"
      ]
     },
     "metadata": {},
     "output_type": "display_data"
    }
   ],
   "source": [
    "df['Aarhus']['Temp']['2006-05':'2006-07'].plot()"
   ]
  },
  {
   "cell_type": "code",
   "execution_count": 20,
   "metadata": {},
   "outputs": [
    {
     "data": {
      "text/plain": [
       "<matplotlib.axes._subplots.AxesSubplot at 0x265c2559eb8>"
      ]
     },
     "execution_count": 20,
     "metadata": {},
     "output_type": "execute_result"
    },
    {
     "data": {
      "image/png": "[encoded data removed]",
      "text/plain": [
       "<Figure size 432x288 with 1 Axes>"
      ]
     },
     "metadata": {},
     "output_type": "display_data"
    }
   ],
   "source": [
    "sns.distplot(df['Roskilde']['Temp']['2006-05':'2006-07'])"
   ]
  },
  {
   "cell_type": "code",
   "execution_count": 21,
   "metadata": {},
   "outputs": [
    {
     "data": {
      "text/plain": [
       "<matplotlib.axes._subplots.AxesSubplot at 0x265c272e048>"
      ]
     },
     "execution_count": 21,
     "metadata": {},
     "output_type": "execute_result"
    },
    {
     "data": {
      "image/png": "[encoded data removed]",
      "text/plain": [
       "<Figure size 432x288 with 1 Axes>"
      ]
     },
     "metadata": {},
     "output_type": "display_data"
    }
   ],
   "source": [
    "df['Roskilde']['Temp']['2006-05':'2006-07'].plot()"
   ]
  },
  {
   "cell_type": "code",
   "execution_count": 22,
   "metadata": {},
   "outputs": [
    {
     "data": {
      "text/plain": [
       "Int64Index([61, 61, 61, 61, 61, 61, 61, 61, 61, 61,\n",
       "            ...\n",
       "            60, 60, 60, 60, 60, 60, 60, 60, 60, 60],\n",
       "           dtype='int64', name='DateTime', length=333109)"
      ]
     },
     "execution_count": 22,
     "metadata": {},
     "output_type": "execute_result"
    }
   ],
   "source": [
    "df.index.dayofyear"
   ]
  },
  {
   "cell_type": "markdown",
   "metadata": {},
   "source": [
    "### Add Data"
   ]
  },
  {
   "cell_type": "code",
   "execution_count": 23,
   "metadata": {},
   "outputs": [],
   "source": [
    "df['Various', 'Day'] = df.index.dayofyear\n",
    "df['Various', 'Hour'] = df.index.hour"
   ]
  },
  {
   "cell_type": "code",
   "execution_count": 24,
   "metadata": {},
   "outputs": [
    {
     "data": {
      "text/html": [
       "<div>\n",
       "<style scoped>\n",
       "    .dataframe tbody tr th:only-of-type {\n",
       "        vertical-align: middle;\n",
       "    }\n",
       "\n",
       "    .dataframe tbody tr th {\n",
       "        vertical-align: top;\n",
       "    }\n",
       "\n",
       "    .dataframe thead tr th {\n",
       "        text-align: left;\n",
       "    }\n",
       "\n",
       "    .dataframe thead tr:last-of-type th {\n",
       "        text-align: right;\n",
       "    }\n",
       "</style>\n",
       "<table border=\"1\" class=\"dataframe\">\n",
       "  <thead>\n",
       "    <tr>\n",
       "      <th></th>\n",
       "      <th colspan=\"4\" halign=\"left\">Aalborg</th>\n",
       "      <th colspan=\"4\" halign=\"left\">Aarhus</th>\n",
       "      <th colspan=\"3\" halign=\"left\">Esbjerg</th>\n",
       "      <th colspan=\"4\" halign=\"left\">Odense</th>\n",
       "      <th colspan=\"3\" halign=\"left\">Roskilde</th>\n",
       "      <th colspan=\"2\" halign=\"left\">Various</th>\n",
       "    </tr>\n",
       "    <tr>\n",
       "      <th></th>\n",
       "      <th>Temp</th>\n",
       "      <th>Pressure</th>\n",
       "      <th>WindSpeed</th>\n",
       "      <th>WindDir</th>\n",
       "      <th>Temp</th>\n",
       "      <th>Pressure</th>\n",
       "      <th>WindSpeed</th>\n",
       "      <th>WindDir</th>\n",
       "      <th>Temp</th>\n",
       "      <th>WindSpeed</th>\n",
       "      <th>WindDir</th>\n",
       "      <th>Temp</th>\n",
       "      <th>Pressure</th>\n",
       "      <th>WindSpeed</th>\n",
       "      <th>WindDir</th>\n",
       "      <th>Temp</th>\n",
       "      <th>WindSpeed</th>\n",
       "      <th>WindDir</th>\n",
       "      <th>Day</th>\n",
       "      <th>Hour</th>\n",
       "    </tr>\n",
       "    <tr>\n",
       "      <th>DateTime</th>\n",
       "      <th></th>\n",
       "      <th></th>\n",
       "      <th></th>\n",
       "      <th></th>\n",
       "      <th></th>\n",
       "      <th></th>\n",
       "      <th></th>\n",
       "      <th></th>\n",
       "      <th></th>\n",
       "      <th></th>\n",
       "      <th></th>\n",
       "      <th></th>\n",
       "      <th></th>\n",
       "      <th></th>\n",
       "      <th></th>\n",
       "      <th></th>\n",
       "      <th></th>\n",
       "      <th></th>\n",
       "      <th></th>\n",
       "      <th></th>\n",
       "    </tr>\n",
       "  </thead>\n",
       "  <tbody>\n",
       "    <tr>\n",
       "      <th>1980-03-01 11:00:00</th>\n",
       "      <td>5.000000</td>\n",
       "      <td>1007.766667</td>\n",
       "      <td>10.2</td>\n",
       "      <td>280.000000</td>\n",
       "      <td>5.0</td>\n",
       "      <td>1008.300000</td>\n",
       "      <td>15.4</td>\n",
       "      <td>290.0</td>\n",
       "      <td>6.083333</td>\n",
       "      <td>12.383333</td>\n",
       "      <td>310.000000</td>\n",
       "      <td>6.142857</td>\n",
       "      <td>1011.066667</td>\n",
       "      <td>12.585714</td>\n",
       "      <td>290.0</td>\n",
       "      <td>5.000000</td>\n",
       "      <td>11.466667</td>\n",
       "      <td>280.000000</td>\n",
       "      <td>61</td>\n",
       "      <td>11</td>\n",
       "    </tr>\n",
       "    <tr>\n",
       "      <th>1980-03-01 12:00:00</th>\n",
       "      <td>5.000000</td>\n",
       "      <td>1008.000000</td>\n",
       "      <td>10.3</td>\n",
       "      <td>290.000000</td>\n",
       "      <td>5.0</td>\n",
       "      <td>1008.600000</td>\n",
       "      <td>13.4</td>\n",
       "      <td>280.0</td>\n",
       "      <td>6.583333</td>\n",
       "      <td>12.883333</td>\n",
       "      <td>310.000000</td>\n",
       "      <td>7.000000</td>\n",
       "      <td>1011.200000</td>\n",
       "      <td>11.300000</td>\n",
       "      <td>290.0</td>\n",
       "      <td>5.000000</td>\n",
       "      <td>12.466667</td>\n",
       "      <td>280.000000</td>\n",
       "      <td>61</td>\n",
       "      <td>12</td>\n",
       "    </tr>\n",
       "    <tr>\n",
       "      <th>1980-03-01 13:00:00</th>\n",
       "      <td>5.000000</td>\n",
       "      <td>1008.066667</td>\n",
       "      <td>9.7</td>\n",
       "      <td>290.000000</td>\n",
       "      <td>5.0</td>\n",
       "      <td>1008.433333</td>\n",
       "      <td>15.4</td>\n",
       "      <td>280.0</td>\n",
       "      <td>6.888889</td>\n",
       "      <td>13.244444</td>\n",
       "      <td>309.444444</td>\n",
       "      <td>7.000000</td>\n",
       "      <td>1011.300000</td>\n",
       "      <td>12.118182</td>\n",
       "      <td>290.0</td>\n",
       "      <td>5.166667</td>\n",
       "      <td>13.133333</td>\n",
       "      <td>278.333333</td>\n",
       "      <td>61</td>\n",
       "      <td>13</td>\n",
       "    </tr>\n",
       "    <tr>\n",
       "      <th>1980-03-01 14:00:00</th>\n",
       "      <td>4.333333</td>\n",
       "      <td>1008.133333</td>\n",
       "      <td>11.1</td>\n",
       "      <td>283.333333</td>\n",
       "      <td>5.0</td>\n",
       "      <td>1008.266667</td>\n",
       "      <td>14.9</td>\n",
       "      <td>300.0</td>\n",
       "      <td>6.222222</td>\n",
       "      <td>12.911111</td>\n",
       "      <td>306.111111</td>\n",
       "      <td>6.857143</td>\n",
       "      <td>1011.400000</td>\n",
       "      <td>12.742857</td>\n",
       "      <td>290.0</td>\n",
       "      <td>5.833333</td>\n",
       "      <td>12.300000</td>\n",
       "      <td>270.000000</td>\n",
       "      <td>61</td>\n",
       "      <td>14</td>\n",
       "    </tr>\n",
       "    <tr>\n",
       "      <th>1980-03-01 15:00:00</th>\n",
       "      <td>4.000000</td>\n",
       "      <td>1008.200000</td>\n",
       "      <td>11.3</td>\n",
       "      <td>280.000000</td>\n",
       "      <td>5.0</td>\n",
       "      <td>1008.100000</td>\n",
       "      <td>17.0</td>\n",
       "      <td>290.0</td>\n",
       "      <td>5.555556</td>\n",
       "      <td>12.577778</td>\n",
       "      <td>302.777778</td>\n",
       "      <td>6.000000</td>\n",
       "      <td>1011.500000</td>\n",
       "      <td>12.400000</td>\n",
       "      <td>290.0</td>\n",
       "      <td>4.833333</td>\n",
       "      <td>12.300000</td>\n",
       "      <td>270.000000</td>\n",
       "      <td>61</td>\n",
       "      <td>15</td>\n",
       "    </tr>\n",
       "  </tbody>\n",
       "</table>\n",
       "</div>"
      ],
      "text/plain": [
       "                      Aalborg                                    Aarhus  \\\n",
       "                         Temp     Pressure WindSpeed     WindDir   Temp   \n",
       "DateTime                                                                  \n",
       "1980-03-01 11:00:00  5.000000  1007.766667      10.2  280.000000    5.0   \n",
       "1980-03-01 12:00:00  5.000000  1008.000000      10.3  290.000000    5.0   \n",
       "1980-03-01 13:00:00  5.000000  1008.066667       9.7  290.000000    5.0   \n",
       "1980-03-01 14:00:00  4.333333  1008.133333      11.1  283.333333    5.0   \n",
       "1980-03-01 15:00:00  4.000000  1008.200000      11.3  280.000000    5.0   \n",
       "\n",
       "                                                     Esbjerg             \\\n",
       "                        Pressure WindSpeed WindDir      Temp  WindSpeed   \n",
       "DateTime                                                                  \n",
       "1980-03-01 11:00:00  1008.300000      15.4   290.0  6.083333  12.383333   \n",
       "1980-03-01 12:00:00  1008.600000      13.4   280.0  6.583333  12.883333   \n",
       "1980-03-01 13:00:00  1008.433333      15.4   280.0  6.888889  13.244444   \n",
       "1980-03-01 14:00:00  1008.266667      14.9   300.0  6.222222  12.911111   \n",
       "1980-03-01 15:00:00  1008.100000      17.0   290.0  5.555556  12.577778   \n",
       "\n",
       "                                   Odense                                  \\\n",
       "                        WindDir      Temp     Pressure  WindSpeed WindDir   \n",
       "DateTime                                                                    \n",
       "1980-03-01 11:00:00  310.000000  6.142857  1011.066667  12.585714   290.0   \n",
       "1980-03-01 12:00:00  310.000000  7.000000  1011.200000  11.300000   290.0   \n",
       "1980-03-01 13:00:00  309.444444  7.000000  1011.300000  12.118182   290.0   \n",
       "1980-03-01 14:00:00  306.111111  6.857143  1011.400000  12.742857   290.0   \n",
       "1980-03-01 15:00:00  302.777778  6.000000  1011.500000  12.400000   290.0   \n",
       "\n",
       "                     Roskilde                        Various       \n",
       "                         Temp  WindSpeed     WindDir     Day Hour  \n",
       "DateTime                                                           \n",
       "1980-03-01 11:00:00  5.000000  11.466667  280.000000      61   11  \n",
       "1980-03-01 12:00:00  5.000000  12.466667  280.000000      61   12  \n",
       "1980-03-01 13:00:00  5.166667  13.133333  278.333333      61   13  \n",
       "1980-03-01 14:00:00  5.833333  12.300000  270.000000      61   14  \n",
       "1980-03-01 15:00:00  4.833333  12.300000  270.000000      61   15  "
      ]
     },
     "execution_count": 24,
     "metadata": {},
     "output_type": "execute_result"
    }
   ],
   "source": [
    "df.head(5)"
   ]
  },
  {
   "cell_type": "markdown",
   "metadata": {},
   "source": [
    "### Target Data for Prediction"
   ]
  },
  {
   "cell_type": "code",
   "execution_count": 25,
   "metadata": {},
   "outputs": [],
   "source": [
    "target_city = 'Odense'\n",
    "target_names = 'Temp WindSpeed Pressure'.split()"
   ]
  },
  {
   "cell_type": "markdown",
   "metadata": {},
   "source": [
    "The following is the number of time-steps that we will shift the target-data. Our data-set is resampled to have an observation for each hour, so there are 24 observations for 24 hours.\n",
    "\n",
    "If we want to predict the weather 24 hours into the future, we shift the data 24 time-steps. If we want to predict the weather 7 days into the future, we shift the data 7 * 24 time-steps."
   ]
  },
  {
   "cell_type": "code",
   "execution_count": 26,
   "metadata": {},
   "outputs": [],
   "source": [
    "shift_days = 1\n",
    "shift_steps = shift_days * 24  # Number of hours."
   ]
  },
  {
   "cell_type": "code",
   "execution_count": 27,
   "metadata": {},
   "outputs": [],
   "source": [
    "df_targets = df[target_city][target_names].shift(-shift_steps)"
   ]
  },
  {
   "cell_type": "code",
   "execution_count": 28,
   "metadata": {},
   "outputs": [
    {
     "data": {
      "text/html": [
       "<div>\n",
       "<style scoped>\n",
       "    .dataframe tbody tr th:only-of-type {\n",
       "        vertical-align: middle;\n",
       "    }\n",
       "\n",
       "    .dataframe tbody tr th {\n",
       "        vertical-align: top;\n",
       "    }\n",
       "\n",
       "    .dataframe thead th {\n",
       "        text-align: right;\n",
       "    }\n",
       "</style>\n",
       "<table border=\"1\" class=\"dataframe\">\n",
       "  <thead>\n",
       "    <tr style=\"text-align: right;\">\n",
       "      <th></th>\n",
       "      <th>Temp</th>\n",
       "      <th>WindSpeed</th>\n",
       "      <th>Pressure</th>\n",
       "    </tr>\n",
       "    <tr>\n",
       "      <th>DateTime</th>\n",
       "      <th></th>\n",
       "      <th></th>\n",
       "      <th></th>\n",
       "    </tr>\n",
       "  </thead>\n",
       "  <tbody>\n",
       "    <tr>\n",
       "      <th>1980-03-01 11:00:00</th>\n",
       "      <td>6.142857</td>\n",
       "      <td>12.585714</td>\n",
       "      <td>1011.066667</td>\n",
       "    </tr>\n",
       "    <tr>\n",
       "      <th>1980-03-01 12:00:00</th>\n",
       "      <td>7.000000</td>\n",
       "      <td>11.300000</td>\n",
       "      <td>1011.200000</td>\n",
       "    </tr>\n",
       "    <tr>\n",
       "      <th>1980-03-01 13:00:00</th>\n",
       "      <td>7.000000</td>\n",
       "      <td>12.118182</td>\n",
       "      <td>1011.300000</td>\n",
       "    </tr>\n",
       "    <tr>\n",
       "      <th>1980-03-01 14:00:00</th>\n",
       "      <td>6.857143</td>\n",
       "      <td>12.742857</td>\n",
       "      <td>1011.400000</td>\n",
       "    </tr>\n",
       "    <tr>\n",
       "      <th>1980-03-01 15:00:00</th>\n",
       "      <td>6.000000</td>\n",
       "      <td>12.400000</td>\n",
       "      <td>1011.500000</td>\n",
       "    </tr>\n",
       "    <tr>\n",
       "      <th>1980-03-01 16:00:00</th>\n",
       "      <td>4.909091</td>\n",
       "      <td>12.618182</td>\n",
       "      <td>1011.688889</td>\n",
       "    </tr>\n",
       "    <tr>\n",
       "      <th>1980-03-01 17:00:00</th>\n",
       "      <td>3.953488</td>\n",
       "      <td>12.646512</td>\n",
       "      <td>1011.877778</td>\n",
       "    </tr>\n",
       "    <tr>\n",
       "      <th>1980-03-01 18:00:00</th>\n",
       "      <td>3.674419</td>\n",
       "      <td>11.725581</td>\n",
       "      <td>1012.066667</td>\n",
       "    </tr>\n",
       "    <tr>\n",
       "      <th>1980-03-01 19:00:00</th>\n",
       "      <td>3.395349</td>\n",
       "      <td>10.804651</td>\n",
       "      <td>1012.255556</td>\n",
       "    </tr>\n",
       "    <tr>\n",
       "      <th>1980-03-01 20:00:00</th>\n",
       "      <td>3.116279</td>\n",
       "      <td>9.883721</td>\n",
       "      <td>1012.444444</td>\n",
       "    </tr>\n",
       "    <tr>\n",
       "      <th>1980-03-01 21:00:00</th>\n",
       "      <td>2.837209</td>\n",
       "      <td>8.962791</td>\n",
       "      <td>1012.633333</td>\n",
       "    </tr>\n",
       "    <tr>\n",
       "      <th>1980-03-01 22:00:00</th>\n",
       "      <td>2.558140</td>\n",
       "      <td>8.041860</td>\n",
       "      <td>1012.822222</td>\n",
       "    </tr>\n",
       "    <tr>\n",
       "      <th>1980-03-01 23:00:00</th>\n",
       "      <td>2.279070</td>\n",
       "      <td>7.120930</td>\n",
       "      <td>1013.011111</td>\n",
       "    </tr>\n",
       "    <tr>\n",
       "      <th>1980-03-02 00:00:00</th>\n",
       "      <td>2.000000</td>\n",
       "      <td>6.200000</td>\n",
       "      <td>1013.200000</td>\n",
       "    </tr>\n",
       "    <tr>\n",
       "      <th>1980-03-02 01:00:00</th>\n",
       "      <td>2.076923</td>\n",
       "      <td>7.738462</td>\n",
       "      <td>1012.366667</td>\n",
       "    </tr>\n",
       "    <tr>\n",
       "      <th>1980-03-02 02:00:00</th>\n",
       "      <td>2.538462</td>\n",
       "      <td>7.969231</td>\n",
       "      <td>1011.533333</td>\n",
       "    </tr>\n",
       "    <tr>\n",
       "      <th>1980-03-02 03:00:00</th>\n",
       "      <td>3.000000</td>\n",
       "      <td>8.200000</td>\n",
       "      <td>1010.700000</td>\n",
       "    </tr>\n",
       "    <tr>\n",
       "      <th>1980-03-02 04:00:00</th>\n",
       "      <td>3.000000</td>\n",
       "      <td>7.927273</td>\n",
       "      <td>1010.100000</td>\n",
       "    </tr>\n",
       "    <tr>\n",
       "      <th>1980-03-02 05:00:00</th>\n",
       "      <td>2.916667</td>\n",
       "      <td>7.658333</td>\n",
       "      <td>1009.500000</td>\n",
       "    </tr>\n",
       "    <tr>\n",
       "      <th>1980-03-02 06:00:00</th>\n",
       "      <td>2.416667</td>\n",
       "      <td>7.408333</td>\n",
       "      <td>1008.900000</td>\n",
       "    </tr>\n",
       "    <tr>\n",
       "      <th>1980-03-02 07:00:00</th>\n",
       "      <td>2.000000</td>\n",
       "      <td>7.100000</td>\n",
       "      <td>1008.300000</td>\n",
       "    </tr>\n",
       "    <tr>\n",
       "      <th>1980-03-02 08:00:00</th>\n",
       "      <td>2.142857</td>\n",
       "      <td>6.542857</td>\n",
       "      <td>1007.700000</td>\n",
       "    </tr>\n",
       "    <tr>\n",
       "      <th>1980-03-02 09:00:00</th>\n",
       "      <td>3.000000</td>\n",
       "      <td>6.200000</td>\n",
       "      <td>1007.100000</td>\n",
       "    </tr>\n",
       "    <tr>\n",
       "      <th>1980-03-02 10:00:00</th>\n",
       "      <td>2.833333</td>\n",
       "      <td>8.350000</td>\n",
       "      <td>1006.466667</td>\n",
       "    </tr>\n",
       "    <tr>\n",
       "      <th>1980-03-02 11:00:00</th>\n",
       "      <td>2.000000</td>\n",
       "      <td>6.828571</td>\n",
       "      <td>1005.833333</td>\n",
       "    </tr>\n",
       "    <tr>\n",
       "      <th>1980-03-02 12:00:00</th>\n",
       "      <td>2.000000</td>\n",
       "      <td>8.200000</td>\n",
       "      <td>1005.200000</td>\n",
       "    </tr>\n",
       "    <tr>\n",
       "      <th>1980-03-02 13:00:00</th>\n",
       "      <td>0.166667</td>\n",
       "      <td>9.216667</td>\n",
       "      <td>1004.766667</td>\n",
       "    </tr>\n",
       "    <tr>\n",
       "      <th>1980-03-02 14:00:00</th>\n",
       "      <td>1.000000</td>\n",
       "      <td>11.885714</td>\n",
       "      <td>1004.333333</td>\n",
       "    </tr>\n",
       "    <tr>\n",
       "      <th>1980-03-02 15:00:00</th>\n",
       "      <td>1.000000</td>\n",
       "      <td>12.400000</td>\n",
       "      <td>1003.900000</td>\n",
       "    </tr>\n",
       "    <tr>\n",
       "      <th>1980-03-02 16:00:00</th>\n",
       "      <td>0.833333</td>\n",
       "      <td>12.133333</td>\n",
       "      <td>1004.266667</td>\n",
       "    </tr>\n",
       "    <tr>\n",
       "      <th>1980-03-02 17:00:00</th>\n",
       "      <td>0.000000</td>\n",
       "      <td>11.300000</td>\n",
       "      <td>1004.633333</td>\n",
       "    </tr>\n",
       "    <tr>\n",
       "      <th>1980-03-02 18:00:00</th>\n",
       "      <td>0.000000</td>\n",
       "      <td>11.300000</td>\n",
       "      <td>1005.000000</td>\n",
       "    </tr>\n",
       "    <tr>\n",
       "      <th>1980-03-02 19:00:00</th>\n",
       "      <td>0.000000</td>\n",
       "      <td>9.881818</td>\n",
       "      <td>1005.000000</td>\n",
       "    </tr>\n",
       "    <tr>\n",
       "      <th>1980-03-02 20:00:00</th>\n",
       "      <td>0.000000</td>\n",
       "      <td>9.071429</td>\n",
       "      <td>1005.000000</td>\n",
       "    </tr>\n",
       "    <tr>\n",
       "      <th>1980-03-02 21:00:00</th>\n",
       "      <td>0.000000</td>\n",
       "      <td>11.300000</td>\n",
       "      <td>1005.000000</td>\n",
       "    </tr>\n",
       "    <tr>\n",
       "      <th>1980-03-02 22:00:00</th>\n",
       "      <td>-1.090909</td>\n",
       "      <td>7.918182</td>\n",
       "      <td>1005.500000</td>\n",
       "    </tr>\n",
       "    <tr>\n",
       "      <th>1980-03-02 23:00:00</th>\n",
       "      <td>-2.000000</td>\n",
       "      <td>5.100000</td>\n",
       "      <td>1006.000000</td>\n",
       "    </tr>\n",
       "    <tr>\n",
       "      <th>1980-03-03 00:00:00</th>\n",
       "      <td>-2.000000</td>\n",
       "      <td>5.100000</td>\n",
       "      <td>1006.500000</td>\n",
       "    </tr>\n",
       "    <tr>\n",
       "      <th>1980-03-03 01:00:00</th>\n",
       "      <td>-2.000000</td>\n",
       "      <td>5.261538</td>\n",
       "      <td>1007.300000</td>\n",
       "    </tr>\n",
       "    <tr>\n",
       "      <th>1980-03-03 02:00:00</th>\n",
       "      <td>-2.000000</td>\n",
       "      <td>6.230769</td>\n",
       "      <td>1008.100000</td>\n",
       "    </tr>\n",
       "  </tbody>\n",
       "</table>\n",
       "</div>"
      ],
      "text/plain": [
       "                         Temp  WindSpeed     Pressure\n",
       "DateTime                                             \n",
       "1980-03-01 11:00:00  6.142857  12.585714  1011.066667\n",
       "1980-03-01 12:00:00  7.000000  11.300000  1011.200000\n",
       "1980-03-01 13:00:00  7.000000  12.118182  1011.300000\n",
       "1980-03-01 14:00:00  6.857143  12.742857  1011.400000\n",
       "1980-03-01 15:00:00  6.000000  12.400000  1011.500000\n",
       "1980-03-01 16:00:00  4.909091  12.618182  1011.688889\n",
       "1980-03-01 17:00:00  3.953488  12.646512  1011.877778\n",
       "1980-03-01 18:00:00  3.674419  11.725581  1012.066667\n",
       "1980-03-01 19:00:00  3.395349  10.804651  1012.255556\n",
       "1980-03-01 20:00:00  3.116279   9.883721  1012.444444\n",
       "1980-03-01 21:00:00  2.837209   8.962791  1012.633333\n",
       "1980-03-01 22:00:00  2.558140   8.041860  1012.822222\n",
       "1980-03-01 23:00:00  2.279070   7.120930  1013.011111\n",
       "1980-03-02 00:00:00  2.000000   6.200000  1013.200000\n",
       "1980-03-02 01:00:00  2.076923   7.738462  1012.366667\n",
       "1980-03-02 02:00:00  2.538462   7.969231  1011.533333\n",
       "1980-03-02 03:00:00  3.000000   8.200000  1010.700000\n",
       "1980-03-02 04:00:00  3.000000   7.927273  1010.100000\n",
       "1980-03-02 05:00:00  2.916667   7.658333  1009.500000\n",
       "1980-03-02 06:00:00  2.416667   7.408333  1008.900000\n",
       "1980-03-02 07:00:00  2.000000   7.100000  1008.300000\n",
       "1980-03-02 08:00:00  2.142857   6.542857  1007.700000\n",
       "1980-03-02 09:00:00  3.000000   6.200000  1007.100000\n",
       "1980-03-02 10:00:00  2.833333   8.350000  1006.466667\n",
       "1980-03-02 11:00:00  2.000000   6.828571  1005.833333\n",
       "1980-03-02 12:00:00  2.000000   8.200000  1005.200000\n",
       "1980-03-02 13:00:00  0.166667   9.216667  1004.766667\n",
       "1980-03-02 14:00:00  1.000000  11.885714  1004.333333\n",
       "1980-03-02 15:00:00  1.000000  12.400000  1003.900000\n",
       "1980-03-02 16:00:00  0.833333  12.133333  1004.266667\n",
       "1980-03-02 17:00:00  0.000000  11.300000  1004.633333\n",
       "1980-03-02 18:00:00  0.000000  11.300000  1005.000000\n",
       "1980-03-02 19:00:00  0.000000   9.881818  1005.000000\n",
       "1980-03-02 20:00:00  0.000000   9.071429  1005.000000\n",
       "1980-03-02 21:00:00  0.000000  11.300000  1005.000000\n",
       "1980-03-02 22:00:00 -1.090909   7.918182  1005.500000\n",
       "1980-03-02 23:00:00 -2.000000   5.100000  1006.000000\n",
       "1980-03-03 00:00:00 -2.000000   5.100000  1006.500000\n",
       "1980-03-03 01:00:00 -2.000000   5.261538  1007.300000\n",
       "1980-03-03 02:00:00 -2.000000   6.230769  1008.100000"
      ]
     },
     "execution_count": 28,
     "metadata": {},
     "output_type": "execute_result"
    }
   ],
   "source": [
    "df[target_city][target_names].head(40)"
   ]
  },
  {
   "cell_type": "code",
   "execution_count": 29,
   "metadata": {},
   "outputs": [
    {
     "data": {
      "text/html": [
       "<div>\n",
       "<style scoped>\n",
       "    .dataframe tbody tr th:only-of-type {\n",
       "        vertical-align: middle;\n",
       "    }\n",
       "\n",
       "    .dataframe tbody tr th {\n",
       "        vertical-align: top;\n",
       "    }\n",
       "\n",
       "    .dataframe thead th {\n",
       "        text-align: right;\n",
       "    }\n",
       "</style>\n",
       "<table border=\"1\" class=\"dataframe\">\n",
       "  <thead>\n",
       "    <tr style=\"text-align: right;\">\n",
       "      <th></th>\n",
       "      <th>Temp</th>\n",
       "      <th>WindSpeed</th>\n",
       "      <th>Pressure</th>\n",
       "    </tr>\n",
       "    <tr>\n",
       "      <th>DateTime</th>\n",
       "      <th></th>\n",
       "      <th></th>\n",
       "      <th></th>\n",
       "    </tr>\n",
       "  </thead>\n",
       "  <tbody>\n",
       "    <tr>\n",
       "      <th>1980-03-01 11:00:00</th>\n",
       "      <td>2.000000</td>\n",
       "      <td>6.828571</td>\n",
       "      <td>1005.833333</td>\n",
       "    </tr>\n",
       "    <tr>\n",
       "      <th>1980-03-01 12:00:00</th>\n",
       "      <td>2.000000</td>\n",
       "      <td>8.200000</td>\n",
       "      <td>1005.200000</td>\n",
       "    </tr>\n",
       "    <tr>\n",
       "      <th>1980-03-01 13:00:00</th>\n",
       "      <td>0.166667</td>\n",
       "      <td>9.216667</td>\n",
       "      <td>1004.766667</td>\n",
       "    </tr>\n",
       "    <tr>\n",
       "      <th>1980-03-01 14:00:00</th>\n",
       "      <td>1.000000</td>\n",
       "      <td>11.885714</td>\n",
       "      <td>1004.333333</td>\n",
       "    </tr>\n",
       "    <tr>\n",
       "      <th>1980-03-01 15:00:00</th>\n",
       "      <td>1.000000</td>\n",
       "      <td>12.400000</td>\n",
       "      <td>1003.900000</td>\n",
       "    </tr>\n",
       "    <tr>\n",
       "      <th>...</th>\n",
       "      <td>...</td>\n",
       "      <td>...</td>\n",
       "      <td>...</td>\n",
       "    </tr>\n",
       "    <tr>\n",
       "      <th>2018-03-01 19:00:00</th>\n",
       "      <td>NaN</td>\n",
       "      <td>NaN</td>\n",
       "      <td>NaN</td>\n",
       "    </tr>\n",
       "    <tr>\n",
       "      <th>2018-03-01 20:00:00</th>\n",
       "      <td>NaN</td>\n",
       "      <td>NaN</td>\n",
       "      <td>NaN</td>\n",
       "    </tr>\n",
       "    <tr>\n",
       "      <th>2018-03-01 21:00:00</th>\n",
       "      <td>NaN</td>\n",
       "      <td>NaN</td>\n",
       "      <td>NaN</td>\n",
       "    </tr>\n",
       "    <tr>\n",
       "      <th>2018-03-01 22:00:00</th>\n",
       "      <td>NaN</td>\n",
       "      <td>NaN</td>\n",
       "      <td>NaN</td>\n",
       "    </tr>\n",
       "    <tr>\n",
       "      <th>2018-03-01 23:00:00</th>\n",
       "      <td>NaN</td>\n",
       "      <td>NaN</td>\n",
       "      <td>NaN</td>\n",
       "    </tr>\n",
       "  </tbody>\n",
       "</table>\n",
       "<p>333109 rows × 3 columns</p>\n",
       "</div>"
      ],
      "text/plain": [
       "                         Temp  WindSpeed     Pressure\n",
       "DateTime                                             \n",
       "1980-03-01 11:00:00  2.000000   6.828571  1005.833333\n",
       "1980-03-01 12:00:00  2.000000   8.200000  1005.200000\n",
       "1980-03-01 13:00:00  0.166667   9.216667  1004.766667\n",
       "1980-03-01 14:00:00  1.000000  11.885714  1004.333333\n",
       "1980-03-01 15:00:00  1.000000  12.400000  1003.900000\n",
       "...                       ...        ...          ...\n",
       "2018-03-01 19:00:00       NaN        NaN          NaN\n",
       "2018-03-01 20:00:00       NaN        NaN          NaN\n",
       "2018-03-01 21:00:00       NaN        NaN          NaN\n",
       "2018-03-01 22:00:00       NaN        NaN          NaN\n",
       "2018-03-01 23:00:00       NaN        NaN          NaN\n",
       "\n",
       "[333109 rows x 3 columns]"
      ]
     },
     "execution_count": 29,
     "metadata": {},
     "output_type": "execute_result"
    }
   ],
   "source": [
    "df_targets"
   ]
  },
  {
   "cell_type": "markdown",
   "metadata": {},
   "source": [
    "### NumPy Arrays"
   ]
  },
  {
   "cell_type": "code",
   "execution_count": 30,
   "metadata": {},
   "outputs": [
    {
     "name": "stdout",
     "output_type": "stream",
     "text": [
      "<class 'numpy.ndarray'>\n",
      "Shape: (333085, 20)\n"
     ]
    }
   ],
   "source": [
    "x_data = df.values[0:-shift_steps]\n",
    "print(type(x_data))\n",
    "print(\"Shape: {}\".format(x_data.shape))"
   ]
  },
  {
   "cell_type": "markdown",
   "metadata": {},
   "source": [
    "Output-signals or target-signals"
   ]
  },
  {
   "cell_type": "code",
   "execution_count": 31,
   "metadata": {},
   "outputs": [
    {
     "name": "stdout",
     "output_type": "stream",
     "text": [
      "<class 'numpy.ndarray'>\n",
      "Shape: (333085, 3)\n"
     ]
    }
   ],
   "source": [
    "y_data = df_targets.values[:-shift_steps]\n",
    "print(type(y_data))\n",
    "print(\"Shape: {}\".format(y_data.shape))"
   ]
  },
  {
   "cell_type": "code",
   "execution_count": 32,
   "metadata": {},
   "outputs": [],
   "source": [
    "data_size = len(x_data)"
   ]
  },
  {
   "cell_type": "code",
   "execution_count": 33,
   "metadata": {},
   "outputs": [],
   "source": [
    "train_test_ratio = 0.8"
   ]
  },
  {
   "cell_type": "code",
   "execution_count": 34,
   "metadata": {},
   "outputs": [
    {
     "data": {
      "text/plain": [
       "266468"
      ]
     },
     "execution_count": 34,
     "metadata": {},
     "output_type": "execute_result"
    }
   ],
   "source": [
    "train_size = int(train_test_ratio * data_size)\n",
    "train_size"
   ]
  },
  {
   "cell_type": "code",
   "execution_count": 35,
   "metadata": {},
   "outputs": [],
   "source": [
    "test_size = data_size - train_size"
   ]
  },
  {
   "cell_type": "code",
   "execution_count": 36,
   "metadata": {},
   "outputs": [
    {
     "data": {
      "text/plain": [
       "333085"
      ]
     },
     "execution_count": 36,
     "metadata": {},
     "output_type": "execute_result"
    }
   ],
   "source": [
    "x_train = x_data[0:train_size]\n",
    "x_test = x_data[train_size:]\n",
    "len(x_train) + len(x_test)"
   ]
  },
  {
   "cell_type": "code",
   "execution_count": 37,
   "metadata": {},
   "outputs": [
    {
     "data": {
      "text/plain": [
       "333085"
      ]
     },
     "execution_count": 37,
     "metadata": {},
     "output_type": "execute_result"
    }
   ],
   "source": [
    "y_train = y_data[0:train_size]\n",
    "y_test = y_data[train_size:]\n",
    "len(y_train) + len(y_test)"
   ]
  },
  {
   "cell_type": "markdown",
   "metadata": {},
   "source": [
    "Number of input-signals"
   ]
  },
  {
   "cell_type": "code",
   "execution_count": 38,
   "metadata": {},
   "outputs": [
    {
     "data": {
      "text/plain": [
       "20"
      ]
     },
     "execution_count": 38,
     "metadata": {},
     "output_type": "execute_result"
    }
   ],
   "source": [
    "num_x_signals = x_data.shape[1]\n",
    "num_x_signals"
   ]
  },
  {
   "cell_type": "markdown",
   "metadata": {},
   "source": [
    "Number of output-signals"
   ]
  },
  {
   "cell_type": "code",
   "execution_count": 39,
   "metadata": {},
   "outputs": [
    {
     "data": {
      "text/plain": [
       "3"
      ]
     },
     "execution_count": 39,
     "metadata": {},
     "output_type": "execute_result"
    }
   ],
   "source": [
    "num_y_signals = y_data.shape[1]\n",
    "num_y_signals"
   ]
  },
  {
   "cell_type": "markdown",
   "metadata": {},
   "source": [
    "### Scaled Data"
   ]
  },
  {
   "cell_type": "markdown",
   "metadata": {},
   "source": [
    "The Recurrent Neural Network cells require the data be scaled. We use the MinMaxScaler() method from Scikit-learn to perform data scaling from 0 to 1. Without scaling our data ranges from -27 to 1050.8"
   ]
  },
  {
   "cell_type": "code",
   "execution_count": 40,
   "metadata": {},
   "outputs": [
    {
     "name": "stdout",
     "output_type": "stream",
     "text": [
      "Min X train: -27.0\n",
      "Max X train: 1050.8\n"
     ]
    }
   ],
   "source": [
    "print(\"Min X train: {}\".format(np.min(x_train)))\n",
    "print(\"Max X train: {}\".format(np.max(x_train)))"
   ]
  },
  {
   "cell_type": "code",
   "execution_count": 41,
   "metadata": {},
   "outputs": [
    {
     "name": "stdout",
     "output_type": "stream",
     "text": [
      "Min scaled X train: 0.0\n",
      "Max scaled X train: 1.0000000000000002\n"
     ]
    }
   ],
   "source": [
    "x_scaler = MinMaxScaler()\n",
    "scaled_x_train = x_scaler.fit_transform(x_train)\n",
    "print(\"Min scaled X train: {}\".format(np.min(scaled_x_train)))\n",
    "print(\"Max scaled X train: {}\".format(np.max(scaled_x_train)))"
   ]
  },
  {
   "cell_type": "code",
   "execution_count": 42,
   "metadata": {},
   "outputs": [
    {
     "name": "stdout",
     "output_type": "stream",
     "text": [
      "Min Y train: -21.0\n",
      "Max Y train: 1048.0\n"
     ]
    }
   ],
   "source": [
    "print(\"Min Y train: {}\".format(np.min(y_train)))\n",
    "print(\"Max Y train: {}\".format(np.max(y_train)))"
   ]
  },
  {
   "cell_type": "code",
   "execution_count": 43,
   "metadata": {},
   "outputs": [
    {
     "name": "stdout",
     "output_type": "stream",
     "text": [
      "Min scaled Y train: 0.0\n",
      "Max scaled Y train: 1.0\n"
     ]
    }
   ],
   "source": [
    "y_scaler = MinMaxScaler()\n",
    "scaled_y_train = y_scaler.fit_transform(y_train)\n",
    "print(\"Min scaled Y train: {}\".format(np.min(scaled_y_train)))\n",
    "print(\"Max scaled Y train: {}\".format(np.max(scaled_y_train)))"
   ]
  },
  {
   "cell_type": "markdown",
   "metadata": {},
   "source": [
    "#### Scaling the test data! "
   ]
  },
  {
   "cell_type": "code",
   "execution_count": 44,
   "metadata": {},
   "outputs": [],
   "source": [
    "scaled_x_test = x_scaler.transform(x_test)\n",
    "scaled_y_test = y_scaler.transform(y_test)"
   ]
  },
  {
   "cell_type": "code",
   "execution_count": 45,
   "metadata": {},
   "outputs": [
    {
     "name": "stdout",
     "output_type": "stream",
     "text": [
      "(266468, 20)\n",
      "(266468, 3)\n"
     ]
    }
   ],
   "source": [
    "print(scaled_x_train.shape)\n",
    "print(scaled_y_train.shape)"
   ]
  },
  {
   "cell_type": "markdown",
   "metadata": {},
   "source": [
    "## Data Generator"
   ]
  },
  {
   "cell_type": "code",
   "execution_count": 46,
   "metadata": {},
   "outputs": [],
   "source": [
    "def batch_generator(batch_size, seq_length):\n",
    "    \"\"\"\n",
    "    Function for creating random batches of training data\n",
    "    \"\"\"\n",
    "    while True:\n",
    "        # New array for the batch of input signals\n",
    "        x_shape = (batch_size, seq_length, num_x_signals)\n",
    "        x_batch = np.zeros(shape=x_shape, dtype=np.float16)\n",
    "        \n",
    "        # New array for the batch of output signals\n",
    "        y_shape = (batch_size, seq_length, num_y_signals)\n",
    "        y_batch = np.zeros(shape=y_shape, dtype=np.float16)\n",
    "        \n",
    "        for i in range(batch_size):\n",
    "            idx = np.random.randint(train_size - seq_length)\n",
    "            x_batch[i] = scaled_x_train[idx:idx+seq_length]\n",
    "            y_batch[i] = scaled_y_train[idx:idx+seq_length]\n",
    "            \n",
    "        yield (x_batch, y_batch)"
   ]
  },
  {
   "cell_type": "code",
   "execution_count": 47,
   "metadata": {},
   "outputs": [],
   "source": [
    "from src.config import config_info as config"
   ]
  },
  {
   "cell_type": "code",
   "execution_count": 48,
   "metadata": {},
   "outputs": [],
   "source": [
    "batch_size = config['batch_size']\n",
    "seq_length = config['sequence_length']\n",
    "features = config['features']\n",
    "input_size = config['n_input']"
   ]
  },
  {
   "cell_type": "code",
   "execution_count": 49,
   "metadata": {},
   "outputs": [],
   "source": [
    "generator = batch_generator(batch_size=256, seq_length=seq_length)"
   ]
  },
  {
   "cell_type": "code",
   "execution_count": 50,
   "metadata": {},
   "outputs": [],
   "source": [
    "X_batch, y_batch = next(generator)"
   ]
  },
  {
   "cell_type": "code",
   "execution_count": 51,
   "metadata": {},
   "outputs": [
    {
     "data": {
      "text/plain": [
       "[<matplotlib.lines.Line2D at 0x265c37f04e0>]"
      ]
     },
     "execution_count": 51,
     "metadata": {},
     "output_type": "execute_result"
    },
    {
     "data": {
      "image/png": "[encoded data removed]",
      "text/plain": [
       "<Figure size 432x288 with 1 Axes>"
      ]
     },
     "metadata": {},
     "output_type": "display_data"
    }
   ],
   "source": [
    "first_sequence = 0\n",
    "first_signal = 0\n",
    "seq_x = X_batch[first_sequence, :, first_signal]\n",
    "plt.plot(seq_x)"
   ]
  },
  {
   "cell_type": "code",
   "execution_count": 52,
   "metadata": {},
   "outputs": [
    {
     "data": {
      "text/plain": [
       "[<matplotlib.lines.Line2D at 0x265c38514e0>]"
      ]
     },
     "execution_count": 52,
     "metadata": {},
     "output_type": "execute_result"
    },
    {
     "data": {
      "image/png": "[encoded data removed]",
      "text/plain": [
       "<Figure size 432x288 with 1 Axes>"
      ]
     },
     "metadata": {},
     "output_type": "display_data"
    }
   ],
   "source": [
    "seq_y = y_batch[first_sequence, :, first_signal]\n",
    "plt.plot(seq_y)"
   ]
  },
  {
   "cell_type": "code",
   "execution_count": 53,
   "metadata": {},
   "outputs": [
    {
     "data": {
      "text/plain": [
       "(66617, 20)"
      ]
     },
     "execution_count": 53,
     "metadata": {},
     "output_type": "execute_result"
    }
   ],
   "source": [
    "scaled_x_test.shape"
   ]
  },
  {
   "cell_type": "code",
   "execution_count": 54,
   "metadata": {},
   "outputs": [
    {
     "data": {
      "text/plain": [
       "(1, 66617, 20)"
      ]
     },
     "execution_count": 54,
     "metadata": {},
     "output_type": "execute_result"
    }
   ],
   "source": [
    "vscaled_x_test = np.expand_dims(scaled_x_test, axis=0)\n",
    "vscaled_x_test.shape"
   ]
  },
  {
   "cell_type": "markdown",
   "metadata": {},
   "source": [
    "### Create the Recurrent Neural Network"
   ]
  },
  {
   "cell_type": "code",
   "execution_count": 55,
   "metadata": {},
   "outputs": [
    {
     "name": "stderr",
     "output_type": "stream",
     "text": [
      "C:\\Users\\Ekele\\Anaconda3\\envs\\tensorflow1.X\\lib\\site-packages\\tensorflow\\python\\framework\\dtypes.py:526: FutureWarning:\n",
      "\n",
      "Passing (type, 1) or '1type' as a synonym of type is deprecated; in a future version of numpy, it will be understood as (type, (1,)) / '(1,)type'.\n",
      "\n",
      "C:\\Users\\Ekele\\Anaconda3\\envs\\tensorflow1.X\\lib\\site-packages\\tensorflow\\python\\framework\\dtypes.py:527: FutureWarning:\n",
      "\n",
      "Passing (type, 1) or '1type' as a synonym of type is deprecated; in a future version of numpy, it will be understood as (type, (1,)) / '(1,)type'.\n",
      "\n",
      "C:\\Users\\Ekele\\Anaconda3\\envs\\tensorflow1.X\\lib\\site-packages\\tensorflow\\python\\framework\\dtypes.py:528: FutureWarning:\n",
      "\n",
      "Passing (type, 1) or '1type' as a synonym of type is deprecated; in a future version of numpy, it will be understood as (type, (1,)) / '(1,)type'.\n",
      "\n",
      "C:\\Users\\Ekele\\Anaconda3\\envs\\tensorflow1.X\\lib\\site-packages\\tensorflow\\python\\framework\\dtypes.py:529: FutureWarning:\n",
      "\n",
      "Passing (type, 1) or '1type' as a synonym of type is deprecated; in a future version of numpy, it will be understood as (type, (1,)) / '(1,)type'.\n",
      "\n",
      "C:\\Users\\Ekele\\Anaconda3\\envs\\tensorflow1.X\\lib\\site-packages\\tensorflow\\python\\framework\\dtypes.py:530: FutureWarning:\n",
      "\n",
      "Passing (type, 1) or '1type' as a synonym of type is deprecated; in a future version of numpy, it will be understood as (type, (1,)) / '(1,)type'.\n",
      "\n",
      "C:\\Users\\Ekele\\Anaconda3\\envs\\tensorflow1.X\\lib\\site-packages\\tensorflow\\python\\framework\\dtypes.py:535: FutureWarning:\n",
      "\n",
      "Passing (type, 1) or '1type' as a synonym of type is deprecated; in a future version of numpy, it will be understood as (type, (1,)) / '(1,)type'.\n",
      "\n"
     ]
    }
   ],
   "source": [
    "from tensorflow.keras.models import Sequential\n",
    "from tensorflow.keras.layers import Input, Dense, GRU, Embedding\n",
    "from tensorflow.keras.optimizers import RMSprop\n",
    "from tensorflow.keras.callbacks import EarlyStopping, ModelCheckpoint, TensorBoard, ReduceLROnPlateau\n",
    "from tensorflow.keras.backend import square, mean"
   ]
  },
  {
   "cell_type": "code",
   "execution_count": 56,
   "metadata": {},
   "outputs": [],
   "source": [
    "warmup_steps = 50\n",
    "\n",
    "def loss_mse_warmup(y_true, y_pred):\n",
    "    \"\"\"\n",
    "    Calculate the Mean Squared Error between y_true and y_pred,\n",
    "    but ignore the beginning \"warmup\" part of the sequences.\n",
    "    \n",
    "    y_true is the desired output.\n",
    "    y_pred is the model's output.\n",
    "    \"\"\"\n",
    "\n",
    "    # The shape of both input tensors are:\n",
    "    # [batch_size, sequence_length, num_y_signals].\n",
    "\n",
    "    # Ignore the \"warmup\" parts of the sequences\n",
    "    # by taking slices of the tensors.\n",
    "    y_true_slice = y_true[:, warmup_steps:, :]\n",
    "    y_pred_slice = y_pred[:, warmup_steps:, :]\n",
    "\n",
    "    # These sliced tensors both have this shape:\n",
    "    # [batch_size, sequence_length - warmup_steps, num_y_signals]\n",
    "\n",
    "    # Calculat the Mean Squared Error and use it as loss.\n",
    "    mse = mean(square(y_true_slice - y_pred_slice))\n",
    "    \n",
    "    return mse"
   ]
  },
  {
   "cell_type": "code",
   "execution_count": 57,
   "metadata": {},
   "outputs": [],
   "source": [
    "import skopt\n",
    "from skopt import gp_minimize, forest_minimize\n",
    "from skopt.space import Real, Categorical, Integer\n",
    "from skopt.plots import plot_convergence\n",
    "from skopt.plots import plot_objective, plot_evaluations\n",
    "#from skopt.plots import plot_histogram, plot_objective_2D\n",
    "from skopt.utils import use_named_args"
   ]
  },
  {
   "cell_type": "code",
   "execution_count": 58,
   "metadata": {},
   "outputs": [],
   "source": [
    "dim_learning_rate = Real(low=1e-6, high=1e-2, prior='log-uniform',\n",
    "                         name='learning_rate')\n",
    "\n",
    "dim_activation = Categorical(categories=['relu', 'sigmoid'],\n",
    "                             name='activation')"
   ]
  },
  {
   "cell_type": "code",
   "execution_count": 59,
   "metadata": {},
   "outputs": [],
   "source": [
    "dimensions = [dim_learning_rate,\n",
    "              dim_activation]"
   ]
  },
  {
   "cell_type": "code",
   "execution_count": 60,
   "metadata": {},
   "outputs": [],
   "source": [
    "path_best_model = '19_best_model.h5'\n",
    "best_accuracy = 0.0"
   ]
  },
  {
   "cell_type": "code",
   "execution_count": 61,
   "metadata": {},
   "outputs": [],
   "source": [
    "def batch_generator(batch_size, sequence_length):\n",
    "    \"\"\"\n",
    "    Generator function for creating random batches of training-data.\n",
    "    \"\"\"\n",
    "\n",
    "    # Infinite loop.\n",
    "    while True:\n",
    "        # Allocate a new array for the batch of input-signals.\n",
    "        x_shape = (batch_size, sequence_length, num_x_signals)\n",
    "        x_batch = np.zeros(shape=x_shape, dtype=np.float16)\n",
    "\n",
    "        # Allocate a new array for the batch of output-signals.\n",
    "        y_shape = (batch_size, sequence_length, num_y_signals)\n",
    "        y_batch = np.zeros(shape=y_shape, dtype=np.float16)\n",
    "\n",
    "        # Fill the batch with random sequences of data.\n",
    "        for i in range(batch_size):\n",
    "            # Get a random start-index.\n",
    "            # This points somewhere into the training-data.\n",
    "            idx = np.random.randint(train_size - sequence_length)\n",
    "            \n",
    "            # Copy the sequences of data starting at this index.\n",
    "            x_batch[i] = scaled_x_train[idx:idx+sequence_length]\n",
    "            y_batch[i] = scaled_y_train[idx:idx+sequence_length]\n",
    "        \n",
    "        yield (x_batch, y_batch)"
   ]
  },
  {
   "cell_type": "code",
   "execution_count": 62,
   "metadata": {},
   "outputs": [],
   "source": [
    "batch_size = 128\n",
    "seq_length = 24 * 7 * 8\n",
    "generator = batch_generator(batch_size=batch_size,\n",
    "                            sequence_length=seq_length)"
   ]
  },
  {
   "cell_type": "code",
   "execution_count": 63,
   "metadata": {},
   "outputs": [],
   "source": [
    "validation_data = (np.expand_dims(scaled_x_test, axis=0),\n",
    "                   np.expand_dims(scaled_y_test, axis=0))"
   ]
  },
  {
   "cell_type": "markdown",
   "metadata": {},
   "source": [
    "### Create the Recurrent Neural Network"
   ]
  },
  {
   "cell_type": "code",
   "execution_count": 64,
   "metadata": {},
   "outputs": [
    {
     "name": "stdout",
     "output_type": "stream",
     "text": [
      "WARNING:tensorflow:From C:\\Users\\Ekele\\Anaconda3\\envs\\tensorflow1.X\\lib\\site-packages\\tensorflow\\python\\ops\\resource_variable_ops.py:435: colocate_with (from tensorflow.python.framework.ops) is deprecated and will be removed in a future version.\n",
      "Instructions for updating:\n",
      "Colocations handled automatically by placer.\n"
     ]
    }
   ],
   "source": [
    "model = Sequential()\n",
    "model.add(GRU(units=512,\n",
    "              return_sequences=True,\n",
    "              input_shape=(None, num_x_signals)))\n",
    "model.add(Dense(num_y_signals, activation='tanh'))"
   ]
  },
  {
   "cell_type": "code",
   "execution_count": 65,
   "metadata": {},
   "outputs": [],
   "source": [
    "warmup_steps = 50\n",
    "\n",
    "def loss_mse_warmup(y_true, y_pred):\n",
    "    y_true_slice = y_true[:, warmup_steps:, :]\n",
    "    y_pred_slice = y_pred[:, warmup_steps:, :]\n",
    "    \n",
    "    mse = mean(square(y_true_slice - y_pred_slice))\n",
    "    \n",
    "    return mse"
   ]
  },
  {
   "cell_type": "markdown",
   "metadata": {},
   "source": [
    "### Compile model"
   ]
  },
  {
   "cell_type": "code",
   "execution_count": 66,
   "metadata": {},
   "outputs": [
    {
     "name": "stdout",
     "output_type": "stream",
     "text": [
      "_________________________________________________________________\n",
      "Layer (type)                 Output Shape              Param #   \n",
      "=================================================================\n",
      "gru (GRU)                    (None, None, 512)         818688    \n",
      "_________________________________________________________________\n",
      "dense (Dense)                (None, None, 3)           1539      \n",
      "=================================================================\n",
      "Total params: 820,227\n",
      "Trainable params: 820,227\n",
      "Non-trainable params: 0\n",
      "_________________________________________________________________\n"
     ]
    }
   ],
   "source": [
    "optimizer = RMSprop(lr=1e-3)\n",
    "model.compile(loss=loss_mse_warmup, optimizer=optimizer, metrics=['accuracy'])\n",
    "model.summary()"
   ]
  },
  {
   "cell_type": "markdown",
   "metadata": {},
   "source": [
    "### Callback Functions"
   ]
  },
  {
   "cell_type": "code",
   "execution_count": 67,
   "metadata": {},
   "outputs": [],
   "source": [
    "path_checkpoint = '23_checkpoint.keras'\n",
    "callback_checkpoint = ModelCheckpoint(filepath=path_checkpoint,\n",
    "                                      monitor='val_loss',\n",
    "                                      verbose=1,\n",
    "                                      save_weights_only=True,\n",
    "                                      save_best_only=True)\n",
    "\n",
    "callback_early_stopping = EarlyStopping(monitor='val_loss',\n",
    "                                        patience=5, verbose=1)\n",
    "\n",
    "callback_tensorboard = TensorBoard(log_dir='./23_logs/',\n",
    "                                   histogram_freq=0,\n",
    "                                   write_graph=False)\n",
    "\n",
    "callback_reduce_lr = ReduceLROnPlateau(monitor='val_loss',\n",
    "                                       factor=0.1,\n",
    "                                       min_lr=1e-4,\n",
    "                                       patience=0,\n",
    "                                       verbose=1)\n",
    "\n",
    "callbacks = [callback_early_stopping,\n",
    "             callback_checkpoint,\n",
    "             callback_tensorboard,\n",
    "             callback_reduce_lr]"
   ]
  },
  {
   "cell_type": "markdown",
   "metadata": {},
   "source": [
    "### Training"
   ]
  },
  {
   "cell_type": "code",
   "execution_count": 68,
   "metadata": {},
   "outputs": [
    {
     "name": "stdout",
     "output_type": "stream",
     "text": [
      "Epoch 1/20\n"
     ]
    },
    {
     "ename": "InternalError",
     "evalue": "Blas GEMM launch failed : a.shape=(128, 512), b.shape=(512, 512), m=128, n=512, k=512\n\t [[{{node gru/while/MatMul_3}}]]\n\t [[{{node metrics/acc/div_no_nan}}]]",
     "output_type": "error",
     "traceback": [
      "\u001b[1;31m---------------------------------------------------------------------------\u001b[0m",
      "\u001b[1;31mInternalError\u001b[0m                             Traceback (most recent call last)",
      "\u001b[1;32m<timed eval>\u001b[0m in \u001b[0;36m<module>\u001b[1;34m\u001b[0m\n",
      "\u001b[1;32m~\\Anaconda3\\envs\\tensorflow1.X\\lib\\site-packages\\tensorflow\\python\\keras\\engine\\training.py\u001b[0m in \u001b[0;36mfit\u001b[1;34m(self, x, y, batch_size, epochs, verbose, callbacks, validation_split, validation_data, shuffle, class_weight, sample_weight, initial_epoch, steps_per_epoch, validation_steps, max_queue_size, workers, use_multiprocessing, **kwargs)\u001b[0m\n\u001b[0;32m    735\u001b[0m           \u001b[0muse_multiprocessing\u001b[0m\u001b[1;33m=\u001b[0m\u001b[0muse_multiprocessing\u001b[0m\u001b[1;33m,\u001b[0m\u001b[1;33m\u001b[0m\u001b[1;33m\u001b[0m\u001b[0m\n\u001b[0;32m    736\u001b[0m           \u001b[0mshuffle\u001b[0m\u001b[1;33m=\u001b[0m\u001b[0mshuffle\u001b[0m\u001b[1;33m,\u001b[0m\u001b[1;33m\u001b[0m\u001b[1;33m\u001b[0m\u001b[0m\n\u001b[1;32m--> 737\u001b[1;33m           initial_epoch=initial_epoch)\n\u001b[0m\u001b[0;32m    738\u001b[0m \u001b[1;33m\u001b[0m\u001b[0m\n\u001b[0;32m    739\u001b[0m     \u001b[1;31m# Legacy support\u001b[0m\u001b[1;33m\u001b[0m\u001b[1;33m\u001b[0m\u001b[1;33m\u001b[0m\u001b[0m\n",
      "\u001b[1;32m~\\Anaconda3\\envs\\tensorflow1.X\\lib\\site-packages\\tensorflow\\python\\keras\\engine\\training.py\u001b[0m in \u001b[0;36mfit_generator\u001b[1;34m(self, generator, steps_per_epoch, epochs, verbose, callbacks, validation_data, validation_steps, class_weight, max_queue_size, workers, use_multiprocessing, shuffle, initial_epoch)\u001b[0m\n\u001b[0;32m   1424\u001b[0m         \u001b[0muse_multiprocessing\u001b[0m\u001b[1;33m=\u001b[0m\u001b[0muse_multiprocessing\u001b[0m\u001b[1;33m,\u001b[0m\u001b[1;33m\u001b[0m\u001b[1;33m\u001b[0m\u001b[0m\n\u001b[0;32m   1425\u001b[0m         \u001b[0mshuffle\u001b[0m\u001b[1;33m=\u001b[0m\u001b[0mshuffle\u001b[0m\u001b[1;33m,\u001b[0m\u001b[1;33m\u001b[0m\u001b[1;33m\u001b[0m\u001b[0m\n\u001b[1;32m-> 1426\u001b[1;33m         initial_epoch=initial_epoch)\n\u001b[0m\u001b[0;32m   1427\u001b[0m \u001b[1;33m\u001b[0m\u001b[0m\n\u001b[0;32m   1428\u001b[0m   def evaluate_generator(self,\n",
      "\u001b[1;32m~\\Anaconda3\\envs\\tensorflow1.X\\lib\\site-packages\\tensorflow\\python\\keras\\engine\\training_generator.py\u001b[0m in \u001b[0;36mmodel_iteration\u001b[1;34m(model, data, steps_per_epoch, epochs, verbose, callbacks, validation_data, validation_steps, class_weight, max_queue_size, workers, use_multiprocessing, shuffle, initial_epoch, mode, batch_size, **kwargs)\u001b[0m\n\u001b[0;32m    189\u001b[0m       \u001b[0mprogbar\u001b[0m\u001b[1;33m.\u001b[0m\u001b[0mon_batch_begin\u001b[0m\u001b[1;33m(\u001b[0m\u001b[0mstep\u001b[0m\u001b[1;33m,\u001b[0m \u001b[0mbatch_logs\u001b[0m\u001b[1;33m)\u001b[0m\u001b[1;33m\u001b[0m\u001b[1;33m\u001b[0m\u001b[0m\n\u001b[0;32m    190\u001b[0m \u001b[1;33m\u001b[0m\u001b[0m\n\u001b[1;32m--> 191\u001b[1;33m       \u001b[0mbatch_outs\u001b[0m \u001b[1;33m=\u001b[0m \u001b[0mbatch_function\u001b[0m\u001b[1;33m(\u001b[0m\u001b[1;33m*\u001b[0m\u001b[0mbatch_data\u001b[0m\u001b[1;33m)\u001b[0m\u001b[1;33m\u001b[0m\u001b[1;33m\u001b[0m\u001b[0m\n\u001b[0m\u001b[0;32m    192\u001b[0m       \u001b[1;32mif\u001b[0m \u001b[1;32mnot\u001b[0m \u001b[0misinstance\u001b[0m\u001b[1;33m(\u001b[0m\u001b[0mbatch_outs\u001b[0m\u001b[1;33m,\u001b[0m \u001b[0mlist\u001b[0m\u001b[1;33m)\u001b[0m\u001b[1;33m:\u001b[0m\u001b[1;33m\u001b[0m\u001b[1;33m\u001b[0m\u001b[0m\n\u001b[0;32m    193\u001b[0m         \u001b[0mbatch_outs\u001b[0m \u001b[1;33m=\u001b[0m \u001b[1;33m[\u001b[0m\u001b[0mbatch_outs\u001b[0m\u001b[1;33m]\u001b[0m\u001b[1;33m\u001b[0m\u001b[1;33m\u001b[0m\u001b[0m\n",
      "\u001b[1;32m~\\Anaconda3\\envs\\tensorflow1.X\\lib\\site-packages\\tensorflow\\python\\keras\\engine\\training.py\u001b[0m in \u001b[0;36mtrain_on_batch\u001b[1;34m(self, x, y, sample_weight, class_weight, reset_metrics)\u001b[0m\n\u001b[0;32m   1189\u001b[0m       \u001b[1;32melse\u001b[0m\u001b[1;33m:\u001b[0m\u001b[1;33m\u001b[0m\u001b[1;33m\u001b[0m\u001b[0m\n\u001b[0;32m   1190\u001b[0m         \u001b[0mself\u001b[0m\u001b[1;33m.\u001b[0m\u001b[0m_make_fit_function\u001b[0m\u001b[1;33m(\u001b[0m\u001b[1;33m)\u001b[0m\u001b[1;33m\u001b[0m\u001b[1;33m\u001b[0m\u001b[0m\n\u001b[1;32m-> 1191\u001b[1;33m         \u001b[0moutputs\u001b[0m \u001b[1;33m=\u001b[0m \u001b[0mself\u001b[0m\u001b[1;33m.\u001b[0m\u001b[0m_fit_function\u001b[0m\u001b[1;33m(\u001b[0m\u001b[0mins\u001b[0m\u001b[1;33m)\u001b[0m  \u001b[1;31m# pylint: disable=not-callable\u001b[0m\u001b[1;33m\u001b[0m\u001b[1;33m\u001b[0m\u001b[0m\n\u001b[0m\u001b[0;32m   1192\u001b[0m \u001b[1;33m\u001b[0m\u001b[0m\n\u001b[0;32m   1193\u001b[0m     \u001b[1;32mif\u001b[0m \u001b[0mreset_metrics\u001b[0m\u001b[1;33m:\u001b[0m\u001b[1;33m\u001b[0m\u001b[1;33m\u001b[0m\u001b[0m\n",
      "\u001b[1;32m~\\Anaconda3\\envs\\tensorflow1.X\\lib\\site-packages\\tensorflow\\python\\keras\\backend.py\u001b[0m in \u001b[0;36m__call__\u001b[1;34m(self, inputs)\u001b[0m\n\u001b[0;32m   3074\u001b[0m \u001b[1;33m\u001b[0m\u001b[0m\n\u001b[0;32m   3075\u001b[0m     fetched = self._callable_fn(*array_vals,\n\u001b[1;32m-> 3076\u001b[1;33m                                 run_metadata=self.run_metadata)\n\u001b[0m\u001b[0;32m   3077\u001b[0m     \u001b[0mself\u001b[0m\u001b[1;33m.\u001b[0m\u001b[0m_call_fetch_callbacks\u001b[0m\u001b[1;33m(\u001b[0m\u001b[0mfetched\u001b[0m\u001b[1;33m[\u001b[0m\u001b[1;33m-\u001b[0m\u001b[0mlen\u001b[0m\u001b[1;33m(\u001b[0m\u001b[0mself\u001b[0m\u001b[1;33m.\u001b[0m\u001b[0m_fetches\u001b[0m\u001b[1;33m)\u001b[0m\u001b[1;33m:\u001b[0m\u001b[1;33m]\u001b[0m\u001b[1;33m)\u001b[0m\u001b[1;33m\u001b[0m\u001b[1;33m\u001b[0m\u001b[0m\n\u001b[0;32m   3078\u001b[0m     return nest.pack_sequence_as(self._outputs_structure,\n",
      "\u001b[1;32m~\\Anaconda3\\envs\\tensorflow1.X\\lib\\site-packages\\tensorflow\\python\\client\\session.py\u001b[0m in \u001b[0;36m__call__\u001b[1;34m(self, *args, **kwargs)\u001b[0m\n\u001b[0;32m   1437\u001b[0m           ret = tf_session.TF_SessionRunCallable(\n\u001b[0;32m   1438\u001b[0m               \u001b[0mself\u001b[0m\u001b[1;33m.\u001b[0m\u001b[0m_session\u001b[0m\u001b[1;33m.\u001b[0m\u001b[0m_session\u001b[0m\u001b[1;33m,\u001b[0m \u001b[0mself\u001b[0m\u001b[1;33m.\u001b[0m\u001b[0m_handle\u001b[0m\u001b[1;33m,\u001b[0m \u001b[0margs\u001b[0m\u001b[1;33m,\u001b[0m \u001b[0mstatus\u001b[0m\u001b[1;33m,\u001b[0m\u001b[1;33m\u001b[0m\u001b[1;33m\u001b[0m\u001b[0m\n\u001b[1;32m-> 1439\u001b[1;33m               run_metadata_ptr)\n\u001b[0m\u001b[0;32m   1440\u001b[0m         \u001b[1;32mif\u001b[0m \u001b[0mrun_metadata\u001b[0m\u001b[1;33m:\u001b[0m\u001b[1;33m\u001b[0m\u001b[1;33m\u001b[0m\u001b[0m\n\u001b[0;32m   1441\u001b[0m           \u001b[0mproto_data\u001b[0m \u001b[1;33m=\u001b[0m \u001b[0mtf_session\u001b[0m\u001b[1;33m.\u001b[0m\u001b[0mTF_GetBuffer\u001b[0m\u001b[1;33m(\u001b[0m\u001b[0mrun_metadata_ptr\u001b[0m\u001b[1;33m)\u001b[0m\u001b[1;33m\u001b[0m\u001b[1;33m\u001b[0m\u001b[0m\n",
      "\u001b[1;32m~\\Anaconda3\\envs\\tensorflow1.X\\lib\\site-packages\\tensorflow\\python\\framework\\errors_impl.py\u001b[0m in \u001b[0;36m__exit__\u001b[1;34m(self, type_arg, value_arg, traceback_arg)\u001b[0m\n\u001b[0;32m    526\u001b[0m             \u001b[1;32mNone\u001b[0m\u001b[1;33m,\u001b[0m \u001b[1;32mNone\u001b[0m\u001b[1;33m,\u001b[0m\u001b[1;33m\u001b[0m\u001b[1;33m\u001b[0m\u001b[0m\n\u001b[0;32m    527\u001b[0m             \u001b[0mcompat\u001b[0m\u001b[1;33m.\u001b[0m\u001b[0mas_text\u001b[0m\u001b[1;33m(\u001b[0m\u001b[0mc_api\u001b[0m\u001b[1;33m.\u001b[0m\u001b[0mTF_Message\u001b[0m\u001b[1;33m(\u001b[0m\u001b[0mself\u001b[0m\u001b[1;33m.\u001b[0m\u001b[0mstatus\u001b[0m\u001b[1;33m.\u001b[0m\u001b[0mstatus\u001b[0m\u001b[1;33m)\u001b[0m\u001b[1;33m)\u001b[0m\u001b[1;33m,\u001b[0m\u001b[1;33m\u001b[0m\u001b[1;33m\u001b[0m\u001b[0m\n\u001b[1;32m--> 528\u001b[1;33m             c_api.TF_GetCode(self.status.status))\n\u001b[0m\u001b[0;32m    529\u001b[0m     \u001b[1;31m# Delete the underlying status object from memory otherwise it stays alive\u001b[0m\u001b[1;33m\u001b[0m\u001b[1;33m\u001b[0m\u001b[1;33m\u001b[0m\u001b[0m\n\u001b[0;32m    530\u001b[0m     \u001b[1;31m# as there is a reference to status from this from the traceback due to\u001b[0m\u001b[1;33m\u001b[0m\u001b[1;33m\u001b[0m\u001b[1;33m\u001b[0m\u001b[0m\n",
      "\u001b[1;31mInternalError\u001b[0m: Blas GEMM launch failed : a.shape=(128, 512), b.shape=(512, 512), m=128, n=512, k=512\n\t [[{{node gru/while/MatMul_3}}]]\n\t [[{{node metrics/acc/div_no_nan}}]]"
     ]
    }
   ],
   "source": [
    "%%time\n",
    "model.fit(x=generator,\n",
    "          epochs=20,\n",
    "          steps_per_epoch=100,\n",
    "          validation_data=validation_data,\n",
    "          callbacks=callbacks)"
   ]
  },
  {
   "cell_type": "code",
   "execution_count": null,
   "metadata": {},
   "outputs": [],
   "source": [
    "result = model.evaluate(x=np.expand_dims(scaled_x_test, axis=0),\n",
    "                        y=np.expand_dims(scaled_y_test, axis=0))"
   ]
  },
  {
   "cell_type": "code",
   "execution_count": null,
   "metadata": {},
   "outputs": [],
   "source": [
    "import seaborn as sns\n",
    "import matplotlib.pyplot as plt"
   ]
  },
  {
   "cell_type": "code",
   "execution_count": null,
   "metadata": {},
   "outputs": [],
   "source": [
    "def plot_comparison(start_idx, length=100, train=True):\n",
    "    if train:\n",
    "        x = scaled_x_train\n",
    "        y_true = y_train\n",
    "    else:\n",
    "        x = scaled_x_test\n",
    "        y_true = y_test\n",
    "        \n",
    "    last_idx = start_idx + length\n",
    "    X = x[start_idx:last_idx]\n",
    "    y_true = y_true[start_idx:last_idx]\n",
    "    \n",
    "    x = np.expand_dims(x, axis=0)\n",
    "    y_pred = model.predict(x)\n",
    "    \n",
    "    rescaled_y_pred = y_scaler.inverse_transform(y_pred[0])\n",
    "    \n",
    "    for signal in range(len(target_names)):\n",
    "        signal_pred = rescaled_y_pred[:, signal]\n",
    "        signal_true = y_true[:, signal]\n",
    "        plt.figure(figsize=(15,5))\n",
    "\n",
    "        plt.plot(signal_true, label='true')\n",
    "        plt.plot(signal_pred, label='pred')\n",
    "        \n",
    "        p = plt.axvspan(0, warmup_steps, facecolor='black', alpha=0.15)\n",
    "        \n",
    "        plt.ylabel(target_names[signal])\n",
    "        plt.legend()\n",
    "        plt.show()"
   ]
  },
  {
   "cell_type": "code",
   "execution_count": null,
   "metadata": {},
   "outputs": [],
   "source": [
    "plot_comparison(start_idx=100000, length=1000, train=True) "
   ]
  },
  {
   "cell_type": "code",
   "execution_count": null,
   "metadata": {},
   "outputs": [],
   "source": [
    "plot_comparison(start_idx=200000, length=1000, train=True)"
   ]
  },
  {
   "cell_type": "code",
   "execution_count": null,
   "metadata": {},
   "outputs": [],
   "source": [
    "df['Odense']['Temp'][200000:200000+1000].plot()"
   ]
  },
  {
   "cell_type": "code",
   "execution_count": null,
   "metadata": {},
   "outputs": [],
   "source": [
    "df_org = weather.load_original_data()\n",
    "df_org.xs('Odense')['Temp']['2002-12-23':'2003-02-04'].plot()"
   ]
  },
  {
   "cell_type": "markdown",
   "metadata": {},
   "source": [
    "### Example from Test-set"
   ]
  },
  {
   "cell_type": "code",
   "execution_count": null,
   "metadata": {},
   "outputs": [],
   "source": [
    "plot_comparison(start_idx=200, length=1000, train=False)"
   ]
  }
 ],
 "metadata": {
  "kernelspec": {
   "display_name": "Tensorflow1.X",
   "language": "python",
   "name": "tensorflow1.x"
  },
  "language_info": {
   "codemirror_mode": {
    "name": "ipython",
    "version": 3
   },
   "file_extension": ".py",
   "mimetype": "text/x-python",
   "name": "python",
   "nbconvert_exporter": "python",
   "pygments_lexer": "ipython3",
   "version": "3.6.10"
  }
 },
 "nbformat": 4,
 "nbformat_minor": 2
}
